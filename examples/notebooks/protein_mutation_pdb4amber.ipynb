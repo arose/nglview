{
 "cells": [
  {
   "cell_type": "markdown",
   "metadata": {},
   "source": [
    "# Require AmberTools\n",
    "\n",
    "```\n",
    "conda install ambertools=17 -c http://ambermd.org/downloads/ambertools/conda/\n",
    "```"
   ]
  },
  {
   "cell_type": "code",
   "execution_count": 1,
   "metadata": {
    "collapsed": true
   },
   "outputs": [],
   "source": [
    "representations = [\n",
    "    {\"type\": \"cartoon\", \"params\": {\n",
    "        \"sele\": \"protein\", \"color\": \"residueindex\"\n",
    "    }},\n",
    "    {\"type\": \"surface\", \"params\": {\n",
    "        \"sele\": \"6\",\n",
    "        \"opacity\": \"0.3\",  \"wireframe\": True, \"color\": \"white\"\n",
    "    }},\n",
    "    {\"type\": \"licorice\", \"params\": {\n",
    "        \"sele\": \"6\",\n",
    "    }},\n",
    "    {\"type\": \"licorice\", \"params\": {\n",
    "        \"sele\": \"10-20 and not hydrogen\"\n",
    "    }}\n",
    "]"
   ]
  },
  {
   "cell_type": "code",
   "execution_count": 2,
   "metadata": {},
   "outputs": [
    {
     "data": {
      "application/vnd.jupyter.widget-view+json": {
       "model_id": "b795f7a6d0e94499855fb93bc31b5c69",
       "version_major": "2",
       "version_minor": "0"
      },
      "text/plain": [
       "A Jupyter Widget"
      ]
     },
     "metadata": {},
     "output_type": "display_data"
    }
   ],
   "source": [
    "from pdb4amber.visualizer import ViewerEditor\n",
    "import parmed\n",
    "\n",
    "parm = parmed.load_file('trpcage.pdb')\n",
    "parm.box = None\n",
    "editor = ViewerEditor(parm)\n",
    "view = editor.visualize()\n",
    "view.representations = representations\n",
    "view.background = 'black'\n",
    "view"
   ]
  },
  {
   "cell_type": "code",
   "execution_count": 3,
   "metadata": {},
   "outputs": [
    {
     "data": {
      "text/plain": [
       "<pdb4amber.visualizer.ViewerEditor at 0x108c64dd0>"
      ]
     },
     "execution_count": 3,
     "metadata": {},
     "output_type": "execute_result"
    }
   ],
   "source": [
    "editor.mutate([(5, 'LYS')])\n",
    "editor.add_missing_atoms()"
   ]
  },
  {
   "cell_type": "code",
   "execution_count": 4,
   "metadata": {
    "collapsed": true
   },
   "outputs": [],
   "source": [
    "editor.leapify()"
   ]
  },
  {
   "cell_type": "code",
   "execution_count": 5,
   "metadata": {},
   "outputs": [
    {
     "name": "stdout",
     "output_type": "stream",
     "text": [
      "\tSTOP: TOTAL NO. of ITERATIONS EXCEEDS LIMIT\n"
     ]
    },
    {
     "name": "stderr",
     "output_type": "stream",
     "text": [
      "Problem minimizing structure with scipy and sander:\n"
     ]
    }
   ],
   "source": [
    "editor.minimize(igb=8, maxcyc=200)"
   ]
  }
 ],
 "metadata": {
  "anaconda-cloud": {},
  "kernelspec": {
   "display_name": "Python 2",
   "language": "python",
   "name": "python2"
  },
  "language_info": {
   "codemirror_mode": {
    "name": "ipython",
    "version": 2
   },
   "file_extension": ".py",
   "mimetype": "text/x-python",
   "name": "python",
   "nbconvert_exporter": "python",
   "pygments_lexer": "ipython2",
   "version": "2.7.13"
  },
  "widgets": {
   "state": {
    "234c4b7098d74738adb4334a60dd9cfb": {
     "views": [
      {
       "cell_index": 2
      }
     ]
    }
   },
   "version": "1.2.0"
  }
 },
 "nbformat": 4,
 "nbformat_minor": 2
}
