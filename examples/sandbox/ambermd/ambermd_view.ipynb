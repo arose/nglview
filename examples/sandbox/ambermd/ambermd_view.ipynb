{
 "cells": [
  {
   "cell_type": "markdown",
   "metadata": {},
   "source": [
    "# Import AmberMD viewer"
   ]
  },
  {
   "cell_type": "code",
   "execution_count": null,
   "metadata": {
    "collapsed": true
   },
   "outputs": [],
   "source": [
    "from nglview.sandbox.mdview import AmberMD"
   ]
  },
  {
   "cell_type": "markdown",
   "metadata": {},
   "source": [
    "# Run simulation"
   ]
  },
  {
   "cell_type": "code",
   "execution_count": null,
   "metadata": {
    "collapsed": false
   },
   "outputs": [],
   "source": [
    "# require sander\n",
    "import os\n",
    "import subprocess\n",
    "\n",
    "amberhome = os.environ.get('AMBERHOME')\n",
    "sander = amberhome + '/bin/sander'\n",
    "command = \"{} -O -i md.in -p peptide.top -c min.rst7 -x md.nc -r md.r -inf md.info\".format(sander)\n",
    "process = subprocess.Popen(command.split())\n",
    "process"
   ]
  },
  {
   "cell_type": "markdown",
   "metadata": {},
   "source": [
    "# Create viewer handler"
   ]
  },
  {
   "cell_type": "code",
   "execution_count": null,
   "metadata": {
    "collapsed": false
   },
   "outputs": [],
   "source": [
    "ambermd = AmberMD(top='./peptide.top', restart='./md.r', reference='./min.rst7')\n",
    "ambermd.initialize()"
   ]
  },
  {
   "cell_type": "markdown",
   "metadata": {},
   "source": [
    "# Update coordinate"
   ]
  },
  {
   "cell_type": "code",
   "execution_count": null,
   "metadata": {
    "collapsed": false
   },
   "outputs": [],
   "source": [
    "ambermd.update(every=0.5, timeout=600)"
   ]
  },
  {
   "cell_type": "code",
   "execution_count": null,
   "metadata": {
    "collapsed": true
   },
   "outputs": [],
   "source": [
    "process.terminate()"
   ]
  },
  {
   "cell_type": "code",
   "execution_count": null,
   "metadata": {
    "collapsed": false
   },
   "outputs": [],
   "source": [
    "# You can do other stuff here\n",
    "\n",
    "# ambermd.view.add_axes()\n",
    "# ambermd.view.add_line()"
   ]
  }
 ],
 "metadata": {
  "anaconda-cloud": {},
  "kernelspec": {
   "display_name": "Python [default]",
   "language": "python",
   "name": "python3"
  },
  "language_info": {
   "codemirror_mode": {
    "name": "ipython",
    "version": 3
   },
   "file_extension": ".py",
   "mimetype": "text/x-python",
   "name": "python",
   "nbconvert_exporter": "python",
   "pygments_lexer": "ipython3",
   "version": "3.5.1"
  },
  "widgets": {
   "state": {
    "3e0c199de5ac4420ad74913e938230d8": {
     "views": [
      {
       "cell_index": 2
      }
     ]
    },
    "6b187a4198c54277a128cfadae21d4db": {
     "views": [
      {
       "cell_index": 2
      }
     ]
    },
    "6b334f2f1fd747d0b068a40a63c4a72f": {
     "views": [
      {
       "cell_index": 2
      }
     ]
    },
    "8ce7c2b82c454313b54f711c247a4ea7": {
     "views": [
      {
       "cell_index": 2
      }
     ]
    }
   },
   "version": "1.2.0"
  }
 },
 "nbformat": 4,
 "nbformat_minor": 0
}
