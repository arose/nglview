{
 "cells": [
  {
   "cell_type": "code",
   "execution_count": 29,
   "metadata": {},
   "outputs": [],
   "source": [
    "from ipywidgets import *\n",
    "import nglview as nv\n",
    "from nglview.widget_box import *\n",
    "\n",
    "v0 = nv.demo()\n",
    "v1 = nv.demo()\n",
    "v2 = nv.demo()\n",
    "v3 = nv.demo()\n",
    "p1 = v1.player._make_repr_playground()\n",
    "p0 = v0.player._make_repr_playground()\n",
    "pb0 = GridBoxNGL(p0.children)\n",
    "pb0.layout.grid_template_columns= 'auto auto auto'\n",
    "pb0.layout.width = '50%'\n",
    "pb1 = GridBoxNGL(p1.children)\n",
    "pb1.layout.grid_template_columns= 'auto auto auto'\n",
    "pb1.layout.width = '50%'\n",
    "repr_grid = GridBoxNGL(p0.children)\n",
    "repr_grid.layout.grid_template_columns = '150px 150px'\n",
    "b = GridBoxNGL([v0, v1, v2, v3],\n",
    "               layout=Layout(grid_template_columns='50% 50%'))\n",
    "v0.player._create_all_widgets()\n",
    "header = Dropdown(options=['a', 'b'], value='a')\n",
    "footer = v0.player.widget_picked\n",
    "left_sidebar=Text(\"hello\")\n",
    "right_sidebar=Text(\"there\")\n",
    "gui0 = v0.player._display()\n",
    "gui1 = v1.player._display()\n",
    "gui1.layout.width = '350px'"
   ]
  },
  {
   "cell_type": "code",
   "execution_count": 30,
   "metadata": {
    "scrolled": false
   },
   "outputs": [
    {
     "data": {
      "application/vnd.jupyter.widget-view+json": {
       "model_id": "cc5efe94f7554ae484eb1bbebaeb19e9",
       "version_major": 2,
       "version_minor": 0
      },
      "text/plain": [
       "AppLayoutNGL(children=(HBox(children=(GridBoxNGL(children=(ToggleButton(value=False, description='axes'), Togg…"
      ]
     },
     "metadata": {},
     "output_type": "display_data"
    }
   ],
   "source": [
    "b2 = AppLayoutNGL(\n",
    "    center=b,\n",
    "    header=HBox([pb0, pb1]),\n",
    "    footer=None,\n",
    "    left_sidebar=None,\n",
    "    right_sidebar=None,)\n",
    "b2"
   ]
  },
  {
   "cell_type": "code",
   "execution_count": 31,
   "metadata": {},
   "outputs": [],
   "source": [
    "b2._js(\"this.el.style.background = 'white'\")\n",
    "for pb in [pb0, pb1]:\n",
    "    for kid in pb.children:\n",
    "        kid.layout.border = 'green solid 1px'"
   ]
  },
  {
   "cell_type": "code",
   "execution_count": 32,
   "metadata": {},
   "outputs": [],
   "source": [
    "b2.fullscreen()"
   ]
  }
 ],
 "metadata": {
  "kernelspec": {
   "display_name": "Python 3",
   "language": "python",
   "name": "python3"
  },
  "language_info": {
   "codemirror_mode": {
    "name": "ipython",
    "version": 3
   },
   "file_extension": ".py",
   "mimetype": "text/x-python",
   "name": "python",
   "nbconvert_exporter": "python",
   "pygments_lexer": "ipython3",
   "version": "3.7.3"
  }
 },
 "nbformat": 4,
 "nbformat_minor": 1
}
