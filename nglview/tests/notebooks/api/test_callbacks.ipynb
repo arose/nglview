{
 "cells": [
  {
   "cell_type": "code",
   "execution_count": 1,
   "metadata": {
    "collapsed": true
   },
   "outputs": [],
   "source": [
    "import nglview as nv"
   ]
  },
  {
   "cell_type": "code",
   "execution_count": 2,
   "metadata": {
    "collapsed": true
   },
   "outputs": [],
   "source": [
    "import pytraj as pt\n",
    "\n",
    "traj = pt.load('test0.pdb') "
   ]
  },
  {
   "cell_type": "markdown",
   "metadata": {},
   "source": [
    "# Ensure we can make `view` in function"
   ]
  },
  {
   "cell_type": "code",
   "execution_count": null,
   "metadata": {
    "collapsed": true
   },
   "outputs": [],
   "source": [
    "def foo():\n",
    "    import nglview\n",
    "    from nglview import NGLWidget\n",
    "    view = nv.NGLWidget()\n",
    "    view.add_trajectory(traj)\n",
    "    view.clear()\n",
    "    view[0].add_cartoon('protein', color='sstruc')\n",
    "    return view"
   ]
  },
  {
   "cell_type": "code",
   "execution_count": null,
   "metadata": {
    "collapsed": false
   },
   "outputs": [],
   "source": [
    "view = foo()\n",
    "view"
   ]
  },
  {
   "cell_type": "markdown",
   "metadata": {},
   "source": [
    "# Ensure we can call add_trajectory, clear, and able to update new representations (vs default ones)"
   ]
  },
  {
   "cell_type": "code",
   "execution_count": 20,
   "metadata": {
    "collapsed": false
   },
   "outputs": [],
   "source": [
    "view2 = nv.NGLWidget()\n",
    "view2"
   ]
  },
  {
   "cell_type": "code",
   "execution_count": 21,
   "metadata": {
    "collapsed": false
   },
   "outputs": [],
   "source": [
    "assert view2._ok_for_callbacks\n",
    "view2.add_trajectory(traj)\n",
    "assert not view2._ok_for_callbacks\n",
    "view2.clear()\n",
    "view2.add_licorice('protein')"
   ]
  },
  {
   "cell_type": "code",
   "execution_count": 11,
   "metadata": {
    "collapsed": false
   },
   "outputs": [
    {
     "data": {
      "text/plain": [
       "['setUnSyncCamera',\n",
       " 'setSelector',\n",
       " 'setUnSyncFrame',\n",
       " 'setDelay',\n",
       " 'loadFile',\n",
       " 'clearRepresentations',\n",
       " 'addRepresentation']"
      ]
     },
     "execution_count": 11,
     "metadata": {},
     "output_type": "execute_result"
    }
   ],
   "source": [
    "[x._method_name for x in view2._xxx]"
   ]
  },
  {
   "cell_type": "code",
   "execution_count": 17,
   "metadata": {
    "collapsed": false,
    "scrolled": false
   },
   "outputs": [],
   "source": [
    "assert len(view2._repr_dict['c0']) == 1\n",
    "assert view2._repr_dict['c0']['0']['name'] == 'licorice'"
   ]
  },
  {
   "cell_type": "code",
   "execution_count": 24,
   "metadata": {
    "collapsed": false
   },
   "outputs": [],
   "source": [
    "view2"
   ]
  },
  {
   "cell_type": "code",
   "execution_count": 25,
   "metadata": {
    "collapsed": false,
    "scrolled": true
   },
   "outputs": [
    {
     "data": {
      "text/plain": [
       "['setUnSyncCamera',\n",
       " 'setSelector',\n",
       " 'setUnSyncFrame',\n",
       " 'setDelay',\n",
       " 'loadFile',\n",
       " 'clearRepresentations',\n",
       " 'addRepresentation']"
      ]
     },
     "execution_count": 25,
     "metadata": {},
     "output_type": "execute_result"
    }
   ],
   "source": [
    "[x._method_name for x in view2._xxx]"
   ]
  }
 ],
 "metadata": {
  "anaconda-cloud": {},
  "kernelspec": {
   "display_name": "Python [default]",
   "language": "python",
   "name": "python3"
  },
  "language_info": {
   "codemirror_mode": {
    "name": "ipython",
    "version": 3
   },
   "file_extension": ".py",
   "mimetype": "text/x-python",
   "name": "python",
   "nbconvert_exporter": "python",
   "pygments_lexer": "ipython3",
   "version": "3.5.2"
  },
  "widgets": {
   "state": {
    "0406f286a8fc42fa97071a22d654009b": {
     "views": [
      {
       "cell_index": 6
      },
      {
       "cell_index": 10
      },
      {
       "cell_index": 10
      }
     ]
    },
    "237e95f72d8d4177b05eac41f75b9b33": {
     "views": [
      {
       "cell_index": 6
      },
      {
       "cell_index": 9
      }
     ]
    },
    "2ce1e5a7b0d54ff68ce672b4beeb0136": {
     "views": [
      {
       "cell_index": 6
      },
      {
       "cell_index": 10
      }
     ]
    },
    "48ff17795bb544c6b96220f7e95d1ec8": {
     "views": [
      {
       "cell_index": 6
      },
      {
       "cell_index": 9
      },
      {
       "cell_index": 9
      }
     ]
    },
    "714646c32da6461babf607e5b9a5b7e2": {
     "views": [
      {
       "cell_index": 4
      }
     ]
    },
    "862918f190144f278311bf508f8ef3d3": {
     "views": [
      {
       "cell_index": 6
      },
      {
       "cell_index": 10
      }
     ]
    },
    "921bd720ff07437c908e30d4d9111792": {
     "views": [
      {
       "cell_index": 4
      }
     ]
    },
    "b444981768b848bbb46ab8aa52720d4a": {
     "views": [
      {
       "cell_index": 6
      },
      {
       "cell_index": 9
      }
     ]
    },
    "ce25931cd0e44acb9a6b0d4ffdb246fc": {
     "views": [
      {
       "cell_index": 6
      },
      {
       "cell_index": 9
      }
     ]
    },
    "d43e9b226e844713a953770dfc389ba2": {
     "views": [
      {
       "cell_index": 6
      },
      {
       "cell_index": 9
      }
     ]
    },
    "d897db5d8ad444f6942fc6e9b31ea83d": {
     "views": [
      {
       "cell_index": 4
      }
     ]
    },
    "dcbc0da1543543f793cdbe8c2b13e4c1": {
     "views": [
      {
       "cell_index": 6
      }
     ]
    },
    "f319ef7dbf7d42a4b672efab2be5692c": {
     "views": [
      {
       "cell_index": 6
      },
      {
       "cell_index": 10
      }
     ]
    }
   },
   "version": "1.2.0"
  }
 },
 "nbformat": 4,
 "nbformat_minor": 0
}
