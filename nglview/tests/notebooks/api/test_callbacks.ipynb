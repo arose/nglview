{
 "cells": [
  {
   "cell_type": "code",
   "execution_count": 2,
   "metadata": {
    "collapsed": true
   },
   "outputs": [],
   "source": [
    "import nglview as nv\n",
    "from nglview.tests.utils import get_fn\n",
    "\n",
    "membrane_pdb = get_fn('rho.pdb')"
   ]
  },
  {
   "cell_type": "code",
   "execution_count": 3,
   "metadata": {
    "collapsed": false
   },
   "outputs": [
    {
     "data": {
      "text/plain": [
       "pytraj.Trajectory, 1 frames: \n",
       "Size: 0.001162 (GB)\n",
       "<Topology: 51983 atoms, 13295 residues, 12949 mols, PBC with box type = ortho>\n",
       "           "
      ]
     },
     "execution_count": 3,
     "metadata": {},
     "output_type": "execute_result"
    }
   ],
   "source": [
    "import pytraj as pt\n",
    "\n",
    "traj = pt.load(membrane_pdb)\n",
    "traj"
   ]
  },
  {
   "cell_type": "markdown",
   "metadata": {},
   "source": [
    "# Ensure we can make `view` in function"
   ]
  },
  {
   "cell_type": "code",
   "execution_count": 4,
   "metadata": {
    "collapsed": true
   },
   "outputs": [],
   "source": [
    "def foo():\n",
    "    import nglview\n",
    "    from nglview import NGLWidget\n",
    "    view = nv.NGLWidget()\n",
    "    view.add_trajectory(traj)\n",
    "    view.clear()\n",
    "    view[0].add_cartoon('protein', color='sstruc')\n",
    "    return view"
   ]
  },
  {
   "cell_type": "code",
   "execution_count": 5,
   "metadata": {
    "collapsed": false
   },
   "outputs": [],
   "source": [
    "view1 = foo()\n",
    "view1"
   ]
  },
  {
   "cell_type": "markdown",
   "metadata": {},
   "source": [
    "# Ensure we can call add_trajectory, clear, and able to update new representations (vs default ones)"
   ]
  },
  {
   "cell_type": "code",
   "execution_count": 6,
   "metadata": {
    "collapsed": false
   },
   "outputs": [],
   "source": [
    "view2 = nv.NGLWidget()\n",
    "view2"
   ]
  },
  {
   "cell_type": "markdown",
   "metadata": {},
   "source": [
    "# Expected: Get the same representations as `view1`"
   ]
  },
  {
   "cell_type": "code",
   "execution_count": 7,
   "metadata": {
    "collapsed": false
   },
   "outputs": [],
   "source": [
    "view2.add_trajectory(traj)\n",
    "view2.clear()\n",
    "view2.add_cartoon('protein', color='sstruc')"
   ]
  },
  {
   "cell_type": "markdown",
   "metadata": {},
   "source": [
    "# Expected: Get the same representations if display again"
   ]
  },
  {
   "cell_type": "code",
   "execution_count": 8,
   "metadata": {
    "collapsed": true
   },
   "outputs": [],
   "source": [
    "view2"
   ]
  }
 ],
 "metadata": {
  "anaconda-cloud": {},
  "kernelspec": {
   "display_name": "Python [default]",
   "language": "python",
   "name": "python3"
  },
  "language_info": {
   "codemirror_mode": {
    "name": "ipython",
    "version": 3
   },
   "file_extension": ".py",
   "mimetype": "text/x-python",
   "name": "python",
   "nbconvert_exporter": "python",
   "pygments_lexer": "ipython3",
   "version": "3.5.2"
  },
  "widgets": {
   "state": {
    "5c4a202a8dad4e7a98cb1cd7df731587": {
     "views": [
      {
       "cell_index": 4
      }
     ]
    },
    "7ce8a15e5724420a8273cf0464e80232": {
     "views": [
      {
       "cell_index": 4
      }
     ]
    },
    "816d15c85aae4378b60ddd9698eee00d": {
     "views": [
      {
       "cell_index": 4
      }
     ]
    },
    "aba06903ea8e4cc1abc8d203518af28f": {
     "views": [
      {
       "cell_index": 6
      },
      {
       "cell_index": 10
      }
     ]
    },
    "b577b3104129499095fdc32b83499fb5": {
     "views": [
      {
       "cell_index": 4
      }
     ]
    },
    "b7c1189be3a74736b733657d74d66c46": {
     "views": [
      {
       "cell_index": 6
      },
      {
       "cell_index": 10
      }
     ]
    },
    "e0740271edc34d7faf8071fcfbe9e0b2": {
     "views": [
      {
       "cell_index": 6
      },
      {
       "cell_index": 11
      },
      {
       "cell_index": 11
      },
      {
       "cell_index": 10
      }
     ]
    },
    "eafbc0c28f82436d9c2a12da034d6884": {
     "views": [
      {
       "cell_index": 4
      },
      {
       "cell_index": 11
      }
     ]
    }
   },
   "version": "1.2.0"
  }
 },
 "nbformat": 4,
 "nbformat_minor": 0
}
