{
 "cells": [
  {
   "cell_type": "code",
   "execution_count": 3,
   "metadata": {
    "collapsed": true
   },
   "outputs": [],
   "source": [
    "import nglview as nv\n",
    "from nglview.tests.utils import get_fn\n",
    "\n",
    "membrane_pdb = get_fn('rho.pdb')"
   ]
  },
  {
   "cell_type": "code",
   "execution_count": 4,
   "metadata": {
    "collapsed": false
   },
   "outputs": [
    {
     "data": {
      "text/plain": [
       "pytraj.Trajectory, 1 frames: \n",
       "Size: 0.001162 (GB)\n",
       "<Topology: 51983 atoms, 13295 residues, 12949 mols, PBC with box type = ortho>\n",
       "           "
      ]
     },
     "execution_count": 4,
     "metadata": {},
     "output_type": "execute_result"
    }
   ],
   "source": [
    "import pytraj as pt\n",
    "\n",
    "traj = pt.load(membrane_pdb)\n",
    "traj"
   ]
  },
  {
   "cell_type": "markdown",
   "metadata": {},
   "source": [
    "# Ensure we can make `view` in function"
   ]
  },
  {
   "cell_type": "code",
   "execution_count": 5,
   "metadata": {
    "collapsed": true
   },
   "outputs": [],
   "source": [
    "def foo():\n",
    "    import nglview\n",
    "    from nglview import NGLWidget\n",
    "    view = nv.NGLWidget()\n",
    "    view.add_trajectory(traj)\n",
    "    view.clear()\n",
    "    view[0].add_cartoon('protein', color='sstruc')\n",
    "    return view"
   ]
  },
  {
   "cell_type": "code",
   "execution_count": 6,
   "metadata": {
    "collapsed": false
   },
   "outputs": [],
   "source": [
    "view1 = foo()\n",
    "view1"
   ]
  },
  {
   "cell_type": "markdown",
   "metadata": {},
   "source": [
    "# Ensure we can call add_trajectory, clear, and able to update new representations (vs default ones)"
   ]
  },
  {
   "cell_type": "code",
   "execution_count": 7,
   "metadata": {
    "collapsed": false
   },
   "outputs": [],
   "source": [
    "view2 = nv.NGLWidget()\n",
    "view2"
   ]
  },
  {
   "cell_type": "markdown",
   "metadata": {},
   "source": [
    "# Expected: Get the same representations as `view1`"
   ]
  },
  {
   "cell_type": "code",
   "execution_count": 8,
   "metadata": {
    "collapsed": false
   },
   "outputs": [],
   "source": [
    "view2.add_trajectory(traj)\n",
    "view2.clear()\n",
    "view2.add_cartoon('protein', color='sstruc')"
   ]
  }
 ],
 "metadata": {
  "anaconda-cloud": {},
  "kernelspec": {
   "display_name": "Python [default]",
   "language": "python",
   "name": "python3"
  },
  "language_info": {
   "codemirror_mode": {
    "name": "ipython",
    "version": 3
   },
   "file_extension": ".py",
   "mimetype": "text/x-python",
   "name": "python",
   "nbconvert_exporter": "python",
   "pygments_lexer": "ipython3",
   "version": "3.5.2"
  },
  "widgets": {
   "state": {
    "0781a53b2be346a4b9a78dbd48c0d5cd": {
     "views": [
      {
       "cell_index": 6
      }
     ]
    },
    "25995215d9674c01b838d378cc0a2be1": {
     "views": [
      {
       "cell_index": 4
      }
     ]
    },
    "94c3baba31ab4d55ab265e20765179e4": {
     "views": [
      {
       "cell_index": 4
      }
     ]
    },
    "9b470fd8ee8047449f35608280000751": {
     "views": [
      {
       "cell_index": 4
      }
     ]
    },
    "a44e26a2a9fd4a76b10fcb4625e70f0c": {
     "views": [
      {
       "cell_index": 6
      }
     ]
    },
    "a6588b6aee07486782d90ac4cd2d7aa6": {
     "views": [
      {
       "cell_index": 6
      }
     ]
    }
   },
   "version": "1.2.0"
  }
 },
 "nbformat": 4,
 "nbformat_minor": 0
}
