{
 "cells": [
  {
   "cell_type": "code",
   "execution_count": 1,
   "metadata": {
    "collapsed": true
   },
   "outputs": [],
   "source": [
    "import nglview as nv"
   ]
  },
  {
   "cell_type": "code",
   "execution_count": null,
   "metadata": {
    "collapsed": true
   },
   "outputs": [],
   "source": [
    "import pytraj as pt\n",
    "\n",
    "traj = pt.load('test0.pdb') "
   ]
  },
  {
   "cell_type": "markdown",
   "metadata": {},
   "source": [
    "# Ensure we can make `view` in function"
   ]
  },
  {
   "cell_type": "code",
   "execution_count": null,
   "metadata": {
    "collapsed": true
   },
   "outputs": [],
   "source": [
    "def foo():\n",
    "    import nglview\n",
    "    from nglview import NGLWidget\n",
    "    view = nv.NGLWidget()\n",
    "    view.add_trajectory(traj)\n",
    "    view.clear()\n",
    "    view[0].add_cartoon('protein', color='sstruc')\n",
    "    return view"
   ]
  },
  {
   "cell_type": "code",
   "execution_count": null,
   "metadata": {
    "collapsed": false
   },
   "outputs": [],
   "source": [
    "view = foo()\n",
    "view"
   ]
  },
  {
   "cell_type": "markdown",
   "metadata": {},
   "source": [
    "# Ensure we can call add_trajectory, clear, and able to update new representations (vs default ones)"
   ]
  },
  {
   "cell_type": "code",
   "execution_count": null,
   "metadata": {
    "collapsed": false
   },
   "outputs": [],
   "source": [
    "view2 = nv.NGLWidget()\n",
    "view2"
   ]
  },
  {
   "cell_type": "code",
   "execution_count": null,
   "metadata": {
    "collapsed": false
   },
   "outputs": [],
   "source": [
    "view2.add_trajectory(traj)\n",
    "view2.clear()\n",
    "view2.add_licorice('protein')"
   ]
  }
 ],
 "metadata": {
  "anaconda-cloud": {},
  "kernelspec": {
   "display_name": "Python [default]",
   "language": "python",
   "name": "python3"
  },
  "language_info": {
   "codemirror_mode": {
    "name": "ipython",
    "version": 3
   },
   "file_extension": ".py",
   "mimetype": "text/x-python",
   "name": "python",
   "nbconvert_exporter": "python",
   "pygments_lexer": "ipython3",
   "version": "3.5.2"
  },
  "widgets": {
   "state": {
    "135b17e3058d4630b0e900342f431b0c": {
     "views": [
      {
       "cell_index": 6
      }
     ]
    },
    "3ebe520e781b42129ec642b24894ddb7": {
     "views": [
      {
       "cell_index": 4
      }
     ]
    },
    "4a0c687b60e84524b4268c935b5bc3f2": {
     "views": [
      {
       "cell_index": 6
      }
     ]
    },
    "803993561a8e4223bc43624afcef059b": {
     "views": [
      {
       "cell_index": 4
      }
     ]
    },
    "90b1a1550c1c4b809ebdc0689cf9d294": {
     "views": [
      {
       "cell_index": 4
      }
     ]
    },
    "b1db4bb686ca4570921fdb1d3a243fbe": {
     "views": [
      {
       "cell_index": 6
      }
     ]
    },
    "cc1b373eee1b4317a40b5334b3b53cd8": {
     "views": [
      {
       "cell_index": 4
      }
     ]
    }
   },
   "version": "1.2.0"
  }
 },
 "nbformat": 4,
 "nbformat_minor": 0
}
