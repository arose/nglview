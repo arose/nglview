{
 "cells": [
  {
   "cell_type": "code",
   "execution_count": 9,
   "metadata": {
    "collapsed": true
   },
   "outputs": [],
   "source": [
    "import nglview as nv"
   ]
  },
  {
   "cell_type": "code",
   "execution_count": 10,
   "metadata": {
    "collapsed": true
   },
   "outputs": [],
   "source": [
    "import pytraj as pt\n",
    "\n",
    "traj = pt.load('test0.pdb') "
   ]
  },
  {
   "cell_type": "markdown",
   "metadata": {},
   "source": [
    "# Ensure we can make `view` in function"
   ]
  },
  {
   "cell_type": "code",
   "execution_count": 32,
   "metadata": {
    "collapsed": true
   },
   "outputs": [],
   "source": [
    "def foo():\n",
    "    import nglview\n",
    "    from nglview import NGLWidget\n",
    "    view = nv.NGLWidget()\n",
    "    view.add_trajectory(traj)\n",
    "    view.clear()\n",
    "    view[0].add_cartoon('protein', color='sstruc')\n",
    "    return view"
   ]
  },
  {
   "cell_type": "code",
   "execution_count": 33,
   "metadata": {
    "collapsed": false
   },
   "outputs": [],
   "source": [
    "view = foo()\n",
    "view"
   ]
  },
  {
   "cell_type": "markdown",
   "metadata": {},
   "source": [
    "# Ensure we can call add_trajectory, clear, and able to update new representations (vs default ones)"
   ]
  },
  {
   "cell_type": "code",
   "execution_count": 28,
   "metadata": {
    "collapsed": false
   },
   "outputs": [],
   "source": [
    "view2 = nv.NGLWidget()\n",
    "view2"
   ]
  },
  {
   "cell_type": "code",
   "execution_count": 29,
   "metadata": {
    "collapsed": false
   },
   "outputs": [],
   "source": [
    "assert view2._ok_for_callbacks\n",
    "view2.add_trajectory(traj)\n",
    "assert not view2._ok_for_callbacks\n",
    "view2.clear()\n",
    "view2.add_licorice('protein')"
   ]
  },
  {
   "cell_type": "code",
   "execution_count": 30,
   "metadata": {
    "collapsed": false,
    "scrolled": false
   },
   "outputs": [],
   "source": [
    "assert len(view2._repr_dict['c0']) == 1\n",
    "assert view2._repr_dict['c0']['0']['name'] == 'licorice'"
   ]
  }
 ],
 "metadata": {
  "anaconda-cloud": {},
  "kernelspec": {
   "display_name": "Python [default]",
   "language": "python",
   "name": "python3"
  },
  "language_info": {
   "codemirror_mode": {
    "name": "ipython",
    "version": 3
   },
   "file_extension": ".py",
   "mimetype": "text/x-python",
   "name": "python",
   "nbconvert_exporter": "python",
   "pygments_lexer": "ipython3",
   "version": "3.5.2"
  },
  "widgets": {
   "state": {
    "1c35424b78e446c3a57da9d993aca1c8": {
     "views": [
      {
       "cell_index": 4
      }
     ]
    },
    "3a3436c5ab61496f8b38c957424de22e": {
     "views": [
      {
       "cell_index": 4
      }
     ]
    },
    "5468c18a4f5c4612bffd1825afc3b9f0": {
     "views": [
      {
       "cell_index": 3
      }
     ]
    },
    "5578ee3c92494701af9071cedd60f6d2": {
     "views": [
      {
       "cell_index": 3
      }
     ]
    },
    "57779e4ba32f4ebb8c16be41f6d0052c": {
     "views": [
      {
       "cell_index": 6
      }
     ]
    },
    "6f1b56afcf5d43f7bdd080e55b65f972": {
     "views": [
      {
       "cell_index": 4
      }
     ]
    },
    "7a204a9f62b147d3b4b6eb2c3afa3b24": {
     "views": [
      {
       "cell_index": 6
      }
     ]
    },
    "8fb3641287564a86abdd3827e910f9d4": {
     "views": [
      {
       "cell_index": 4
      }
     ]
    },
    "9950dedc24074f2089524dc7203a45da": {
     "views": [
      {
       "cell_index": 4
      }
     ]
    },
    "a2c82153cb49469fbdc6191e9fde6ac7": {
     "views": [
      {
       "cell_index": 6
      }
     ]
    },
    "a628c2d19fc148baa88a9b2caf937d4b": {
     "views": [
      {
       "cell_index": 4
      },
      {
       "cell_index": 7
      },
      {
       "cell_index": 7
      }
     ]
    },
    "af21aef0ea6b4443bdaa2587e45baa7e": {
     "views": [
      {
       "cell_index": 4
      }
     ]
    },
    "b1f5842d9474446392abee65d2cae854": {
     "views": [
      {
       "cell_index": 3
      }
     ]
    },
    "b745d95cad24413e98c2765b25eacd8b": {
     "views": [
      {
       "cell_index": 3
      }
     ]
    },
    "f55f8c8a8b9045d3854ce4e77fa31d2f": {
     "views": [
      {
       "cell_index": 4
      }
     ]
    }
   },
   "version": "1.2.0"
  }
 },
 "nbformat": 4,
 "nbformat_minor": 0
}
