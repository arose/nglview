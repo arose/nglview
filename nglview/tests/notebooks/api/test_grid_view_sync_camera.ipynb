{
 "cells": [
  {
   "cell_type": "code",
   "execution_count": 37,
   "metadata": {},
   "outputs": [
    {
     "data": {
      "application/vnd.jupyter.widget-view+json": {
       "model_id": "7f77bcd0cd3f4b41b216726561c4eb06",
       "version_major": 2,
       "version_minor": 0
      },
      "text/plain": [
       "Fullscreen()"
      ]
     },
     "metadata": {},
     "output_type": "display_data"
    },
    {
     "data": {
      "application/vnd.jupyter.widget-view+json": {
       "model_id": "0710baa4c21049cd9a55516225dcd845",
       "version_major": 2,
       "version_minor": 0
      },
      "text/plain": [
       "GridBox(children=(NGLWidget(), NGLWidget()), layout=Layout(grid_template_columns='40% 60%'))"
      ]
     },
     "metadata": {},
     "output_type": "display_data"
    }
   ],
   "source": [
    "import nglview as nv\n",
    "from ipywidgets import *\n",
    "from nglview.widget import Fullscreen\n",
    "from IPython.display import display\n",
    "\n",
    "v = nv.show_pdbid('4HHB')\n",
    "v1 = nv.show_pdbid('4HHB', default=False)\n",
    "v1.add_ball_and_stick('148:D')\n",
    "v1.center('148:D')\n",
    "b = GridBox([v1, v])\n",
    "b.layout.grid_template_columns = '40% 60%'\n",
    "fs = Fullscreen(b, b.children)\n",
    "display(fs)\n",
    "b"
   ]
  },
  {
   "cell_type": "code",
   "execution_count": 39,
   "metadata": {},
   "outputs": [],
   "source": [
    "v.gui_style = 'ngl'"
   ]
  },
  {
   "cell_type": "code",
   "execution_count": 41,
   "metadata": {},
   "outputs": [],
   "source": [
    "b.layout.height = '400px'"
   ]
  },
  {
   "cell_type": "code",
   "execution_count": 45,
   "metadata": {},
   "outputs": [],
   "source": [
    "fs.fullscreen()"
   ]
  },
  {
   "cell_type": "code",
   "execution_count": 42,
   "metadata": {},
   "outputs": [],
   "source": [
    "fs.handle_resize()"
   ]
  },
  {
   "cell_type": "code",
   "execution_count": 44,
   "metadata": {},
   "outputs": [],
   "source": [
    "v._set_sync_camera([v1])"
   ]
  }
 ],
 "metadata": {
  "kernelspec": {
   "display_name": "Python 3",
   "language": "python",
   "name": "python3"
  },
  "language_info": {
   "codemirror_mode": {
    "name": "ipython",
    "version": 3
   },
   "file_extension": ".py",
   "mimetype": "text/x-python",
   "name": "python",
   "nbconvert_exporter": "python",
   "pygments_lexer": "ipython3",
   "version": "3.7.3"
  }
 },
 "nbformat": 4,
 "nbformat_minor": 1
}
