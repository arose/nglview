{
 "cells": [
  {
   "cell_type": "code",
   "execution_count": 1,
   "metadata": {
    "scrolled": false
   },
   "outputs": [
    {
     "data": {
      "application/vnd.jupyter.widget-view+json": {
       "model_id": "9990c88f0f66432f8cf6583a003808e0",
       "version_major": 2,
       "version_minor": 0
      },
      "text/plain": [
       "A Jupyter Widget"
      ]
     },
     "metadata": {},
     "output_type": "display_data"
    },
    {
     "data": {
      "application/vnd.jupyter.widget-view+json": {
       "model_id": "eecdcbf6fb2b486c89f5d006cc0e049b",
       "version_major": 2,
       "version_minor": 0
      },
      "text/plain": [
       "A Jupyter Widget"
      ]
     },
     "metadata": {},
     "output_type": "display_data"
    }
   ],
   "source": [
    "import nglview\n",
    "from nglview.utils import get_colors_from_b64\n",
    "from nglview.utils import widget_utils\n",
    "\n",
    "view = nglview.demo(gui=True)\n",
    "view"
   ]
  },
  {
   "cell_type": "code",
   "execution_count": 2,
   "metadata": {
    "collapsed": true
   },
   "outputs": [],
   "source": [
    "tab = view.player.widget_tab"
   ]
  },
  {
   "cell_type": "code",
   "execution_count": 3,
   "metadata": {
    "collapsed": true
   },
   "outputs": [],
   "source": [
    "tab.selected_index = 1"
   ]
  },
  {
   "cell_type": "code",
   "execution_count": 4,
   "metadata": {},
   "outputs": [],
   "source": [
    "repr_slider = widget_utils.get_widget_by_name(\n",
    "    view.player.widget_repr, 'repr_slider')\n",
    "component_slider = widget_utils.get_widget_by_name(\n",
    "    view.player.widget_repr, 'component_slider')\n",
    "repr_name_text = widget_utils.get_widget_by_name(\n",
    "    view.player.widget_repr, 'repr_name_text')\n",
    "repr_selection = widget_utils.get_widget_by_name(\n",
    "    view.player.widget_repr, 'repr_selection')\n",
    "reprlist_choices = widget_utils.get_widget_by_name(\n",
    "    view.player.widget_repr, 'reprlist_choices')"
   ]
  },
  {
   "cell_type": "code",
   "execution_count": 8,
   "metadata": {},
   "outputs": [],
   "source": [
    "assert repr_name_text.value == 'cartoon\\n' # FIXME: remove \\n"
   ]
  },
  {
   "cell_type": "code",
   "execution_count": 9,
   "metadata": {
    "collapsed": true
   },
   "outputs": [],
   "source": [
    "repr_slider.value = 1"
   ]
  },
  {
   "cell_type": "code",
   "execution_count": 10,
   "metadata": {
    "collapsed": true
   },
   "outputs": [],
   "source": [
    "assert repr_name_text.value == 'base\\n' # FIXME: remove \\n"
   ]
  }
 ],
 "metadata": {
  "kernelspec": {
   "display_name": "Python 3",
   "language": "python",
   "name": "python3"
  },
  "language_info": {
   "codemirror_mode": {
    "name": "ipython",
    "version": 3
   },
   "file_extension": ".py",
   "mimetype": "text/x-python",
   "name": "python",
   "nbconvert_exporter": "python",
   "pygments_lexer": "ipython3",
   "version": "3.5.2"
  }
 },
 "nbformat": 4,
 "nbformat_minor": 2
}
