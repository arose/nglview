{
 "cells": [
  {
   "cell_type": "code",
   "execution_count": 17,
   "metadata": {
    "collapsed": false
   },
   "outputs": [],
   "source": [
    "import nglview as nv\n",
    "from nglview.widget_utils import get_widget_by_name\n",
    "\n",
    "view = nv.demo(gui=True, theme='dark')\n",
    "view"
   ]
  },
  {
   "cell_type": "code",
   "execution_count": 18,
   "metadata": {
    "collapsed": false
   },
   "outputs": [],
   "source": [
    "# Above:\n",
    "# - click Representation tab\n",
    "# - run below code\n",
    "# - should expect all info will disappear (No component at all)\n",
    "view.remove_component(view.component_0.id)"
   ]
  },
  {
   "cell_type": "code",
   "execution_count": 19,
   "metadata": {
    "collapsed": false
   },
   "outputs": [],
   "source": [
    "repr_info_box = get_widget_by_name(view.player.repr_widget, 'repr_info_box')\n",
    "repr_selection = get_widget_by_name(repr_info_box, 'repr_selection')\n",
    "assert repr_selection.value == ''"
   ]
  },
  {
   "cell_type": "code",
   "execution_count": 20,
   "metadata": {
    "collapsed": true
   },
   "outputs": [],
   "source": [
    "repr_name_text = get_widget_by_name(repr_info_box, 'repr_name_text')\n",
    "assert repr_name_text.value == ''"
   ]
  },
  {
   "cell_type": "code",
   "execution_count": 21,
   "metadata": {
    "collapsed": false
   },
   "outputs": [],
   "source": [
    "reprlist_choices = get_widget_by_name(view.player.repr_widget, 'reprlist_choices')\n",
    "\n",
    "assert reprlist_choices.options == tuple([''])"
   ]
  },
  {
   "cell_type": "code",
   "execution_count": 23,
   "metadata": {
    "collapsed": false
   },
   "outputs": [],
   "source": [
    "repr_parameters_box = get_widget_by_name(view.player.repr_widget, 'repr_parameters_box')\n",
    "x = repr_parameters_box.children[0]\n",
    "\n",
    "# just want to make sure no error if turn on\n",
    "x.value = True"
   ]
  }
 ],
 "metadata": {
  "kernelspec": {
   "display_name": "Python 3",
   "language": "python",
   "name": "python3"
  },
  "language_info": {
   "codemirror_mode": {
    "name": "ipython",
    "version": 3
   },
   "file_extension": ".py",
   "mimetype": "text/x-python",
   "name": "python",
   "nbconvert_exporter": "python",
   "pygments_lexer": "ipython3",
   "version": "3.5.1"
  }
 },
 "nbformat": 4,
 "nbformat_minor": 0
}
