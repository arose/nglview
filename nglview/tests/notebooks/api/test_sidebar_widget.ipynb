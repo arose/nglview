{
 "cells": [
  {
   "cell_type": "code",
   "execution_count": 10,
   "metadata": {},
   "outputs": [
    {
     "data": {
      "application/vnd.jupyter.widget-view+json": {
       "model_id": "3b6909b67d58484a8a9afb6b4b323257",
       "version_major": 2,
       "version_minor": 0
      },
      "text/plain": [
       "Sidebar()"
      ]
     },
     "metadata": {},
     "output_type": "display_data"
    },
    {
     "data": {
      "application/vnd.jupyter.widget-view+json": {
       "model_id": "0f825e7489f645d789926e50051d7f93",
       "version_major": 2,
       "version_minor": 0
      },
      "text/plain": [
       "HTML(value='\\n<style>\\n.nglview-app{\\n    background: white\\n}\\n</style>\\n')"
      ]
     },
     "metadata": {},
     "output_type": "display_data"
    },
    {
     "data": {
      "application/vnd.jupyter.widget-view+json": {
       "model_id": "1a15e5c563a443d29bf67b2dad147389",
       "version_major": 2,
       "version_minor": 0
      },
      "text/plain": [
       "GridBox(children=(Sidebar(), NGLWidget()), layout=Layout(grid_template_columns='350px auto'), _dom_classes=('n…"
      ]
     },
     "metadata": {},
     "output_type": "display_data"
    }
   ],
   "source": [
    "import nglview as nv\n",
    "from ipywidgets import *\n",
    "from IPython.display import display\n",
    "\n",
    "v = nv.demo()\n",
    "s = nv.widget.Sidebar(v.model_id)\n",
    "display(s)\n",
    "app = GridBox([s, v])\n",
    "app.layout.grid_template_columns = '350px auto'\n",
    "def on_displayed(app):\n",
    "    v.handle_resize()\n",
    "    v._execute_js_code(\"\"\"\n",
    "\n",
    "    var cviews = this.options.parent.children_views.views\n",
    "    console.log(cviews)\n",
    "    var view = cviews[1]\n",
    "    var sidebar = cviews[0]\n",
    "    Promise.all([view, sidebar]).then((all) =>{\n",
    "        var v = all[0]\n",
    "        var s = all[1]\n",
    "        console.log(v, s)\n",
    "        if (!s.sidebar.stage){\n",
    "            s.sidebar.setStage(v.stage)\n",
    "        }\n",
    "    })\n",
    "    \"\"\")\n",
    "app.on_displayed(on_displayed)\n",
    "_ = app.add_class(\"nglview-app\")\n",
    "display(HTML(\"\"\"\n",
    "<style>\n",
    ".nglview-app{\n",
    "    background: white\n",
    "}\n",
    "</style>\n",
    "\"\"\"))\n",
    "app"
   ]
  },
  {
   "cell_type": "code",
   "execution_count": 11,
   "metadata": {
    "scrolled": true
   },
   "outputs": [
    {
     "data": {
      "application/vnd.jupyter.widget-view+json": {
       "model_id": "4118fc04e9044f4a9c2d13199bb6a587",
       "version_major": 2,
       "version_minor": 0
      },
      "text/plain": [
       "Fullscreen()"
      ]
     },
     "metadata": {},
     "output_type": "display_data"
    }
   ],
   "source": [
    "fs = nv.widget.Fullscreen(app, [v])\n",
    "fs"
   ]
  },
  {
   "cell_type": "code",
   "execution_count": 12,
   "metadata": {},
   "outputs": [],
   "source": [
    "fs.fullscreen()"
   ]
  }
 ],
 "metadata": {
  "kernelspec": {
   "display_name": "Python 3",
   "language": "python",
   "name": "python3"
  },
  "language_info": {
   "codemirror_mode": {
    "name": "ipython",
    "version": 3
   },
   "file_extension": ".py",
   "mimetype": "text/x-python",
   "name": "python",
   "nbconvert_exporter": "python",
   "pygments_lexer": "ipython3",
   "version": "3.7.3"
  }
 },
 "nbformat": 4,
 "nbformat_minor": 4
}
