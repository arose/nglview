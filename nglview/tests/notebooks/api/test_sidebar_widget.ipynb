{
 "cells": [
  {
   "cell_type": "code",
   "execution_count": null,
   "metadata": {},
   "outputs": [],
   "source": [
    "import nglview as nv\n",
    "from ipywidgets import *\n",
    "from IPython.display import display\n",
    "\n",
    "v = nv.demo()\n",
    "s = nv.widget.Sidebar(v.model_id)\n",
    "display(s)\n",
    "app = GridBox([s, v])\n",
    "app.layout.grid_template_columns = '350px auto'\n",
    "def on_displayed(app):\n",
    "    v.handle_resize()\n",
    "    v._execute_js_code(\"\"\"\n",
    "\n",
    "    var cviews = this.options.parent.children_views.views\n",
    "    console.log(cviews)\n",
    "    var view = cviews[1]\n",
    "    var sidebar = cviews[0]\n",
    "    Promise.all([view, sidebar]).then((all) =>{\n",
    "        var v = all[0]\n",
    "        var s = all[1]\n",
    "        console.log(v, s)\n",
    "        s.setStage(v.stage)\n",
    "    })\n",
    "    \"\"\")\n",
    "app.on_displayed(on_displayed)\n",
    "_ = app.add_class(\"nglview-app\")\n",
    "display(HTML(\"\"\"\n",
    "<style>\n",
    ".nglview-app{\n",
    "    background: white\n",
    "}\n",
    "</style>\n",
    "\"\"\"))\n",
    "app"
   ]
  },
  {
   "cell_type": "code",
   "execution_count": null,
   "metadata": {
    "scrolled": true
   },
   "outputs": [],
   "source": [
    "fs = nv.widget.Fullscreen(app, [v])\n",
    "fs"
   ]
  },
  {
   "cell_type": "code",
   "execution_count": null,
   "metadata": {},
   "outputs": [],
   "source": [
    "fs.fullscreen()"
   ]
  },
  {
   "cell_type": "code",
   "execution_count": null,
   "metadata": {},
   "outputs": [],
   "source": [
    "    v._execute_js_code(\"\"\"\n",
    "\n",
    "    var cviews = this.options.parent.children_views.views\n",
    "    console.log(cviews)\n",
    "    var view = cviews[1]\n",
    "    var sidebar = cviews[0]\n",
    "    Promise.all([view, sidebar]).then((all) =>{\n",
    "        var v = all[0]\n",
    "        var s = all[1]\n",
    "        console.log(v, s)\n",
    "        s.setStage(v.stage)\n",
    "    })\n",
    "    \"\"\")"
   ]
  }
 ],
 "metadata": {
  "kernelspec": {
   "display_name": "Python 3",
   "language": "python",
   "name": "python3"
  },
  "language_info": {
   "codemirror_mode": {
    "name": "ipython",
    "version": 3
   },
   "file_extension": ".py",
   "mimetype": "text/x-python",
   "name": "python",
   "nbconvert_exporter": "python",
   "pygments_lexer": "ipython3",
   "version": "3.7.3"
  }
 },
 "nbformat": 4,
 "nbformat_minor": 4
}
