{
 "cells": [
  {
   "cell_type": "code",
   "execution_count": 1,
   "metadata": {},
   "outputs": [
    {
     "data": {
      "application/vnd.jupyter.widget-view+json": {
       "model_id": "c70b251f72e7480cac1683e36b0f3880",
       "version_major": 2,
       "version_minor": 0
      },
      "text/plain": [
       "Sidebar()"
      ]
     },
     "metadata": {},
     "output_type": "display_data"
    },
    {
     "data": {
      "application/vnd.jupyter.widget-view+json": {
       "model_id": "e769b573392549dbbe7a0450b95c87bf",
       "version_major": 2,
       "version_minor": 0
      },
      "text/plain": [
       "GridBox(children=(NGLWidget(), Sidebar()), layout=Layout(grid_template_columns='auto 350px'))"
      ]
     },
     "metadata": {},
     "output_type": "display_data"
    }
   ],
   "source": [
    "import nglview as nv\n",
    "from ipywidgets import *\n",
    "from IPython.display import display\n",
    "\n",
    "v = nv.demo()\n",
    "s = nv.widget.Sidebar(v.model_id)\n",
    "display(s)\n",
    "app = GridBox([v, s])\n",
    "app.layout.grid_template_columns = 'auto 350px'\n",
    "def on_displayed(app):\n",
    "    v.handle_resize()\n",
    "    v._execute_js_code(\"\"\"\n",
    "\n",
    "    var cviews = this.options.parent.children_views.views\n",
    "    console.log(cviews)\n",
    "    var view = cviews[0]\n",
    "    var sidebar = cviews[1]\n",
    "    Promise.all([view, sidebar]).then((all) =>{\n",
    "        var v = all[0]\n",
    "        var s = all[1]\n",
    "        console.log(v, s)\n",
    "        if (!s.sidebar.stage){\n",
    "            s.sidebar.setStage(v.stage)\n",
    "        }\n",
    "    })\n",
    "    \"\"\")\n",
    "app.on_displayed(on_displayed)\n",
    "app"
   ]
  },
  {
   "cell_type": "code",
   "execution_count": 26,
   "metadata": {},
   "outputs": [
    {
     "data": {
      "text/plain": [
       "0"
      ]
     },
     "execution_count": 26,
     "metadata": {},
     "output_type": "execute_result"
    }
   ],
   "source": [
    "v.n_components"
   ]
  },
  {
   "cell_type": "code",
   "execution_count": 4,
   "metadata": {},
   "outputs": [],
   "source": [
    "app.layout.grid_template_columns = 'auto 250px'\n",
    "v.handle_resize()"
   ]
  },
  {
   "cell_type": "code",
   "execution_count": 5,
   "metadata": {},
   "outputs": [
    {
     "data": {
      "application/vnd.jupyter.widget-view+json": {
       "model_id": "635f8854148a4fdda9311b60e570ec27",
       "version_major": 2,
       "version_minor": 0
      },
      "text/plain": [
       "Fullscreen()"
      ]
     },
     "metadata": {},
     "output_type": "display_data"
    }
   ],
   "source": [
    "fs = nv.widget.Fullscreen(app, [v])\n",
    "fs"
   ]
  },
  {
   "cell_type": "code",
   "execution_count": 25,
   "metadata": {},
   "outputs": [],
   "source": [
    "fs.fullscreen()"
   ]
  },
  {
   "cell_type": "code",
   "execution_count": 7,
   "metadata": {},
   "outputs": [],
   "source": [
    "_ = app.add_class(\"nglview-app\")"
   ]
  },
  {
   "cell_type": "code",
   "execution_count": 23,
   "metadata": {},
   "outputs": [
    {
     "data": {
      "application/vnd.jupyter.widget-view+json": {
       "model_id": "407dc04adc0449cbab724750cda8e57f",
       "version_major": 2,
       "version_minor": 0
      },
      "text/plain": [
       "HTML(value='\\n<style>\\n.nglview-app{\\n    background: white\\n}\\n</style>\\n')"
      ]
     },
     "metadata": {},
     "output_type": "display_data"
    }
   ],
   "source": [
    "x = HTML(\"\"\"\n",
    "<style>\n",
    ".nglview-app{\n",
    "    background: white\n",
    "}\n",
    "</style>\n",
    "\"\"\")\n",
    "x"
   ]
  },
  {
   "cell_type": "code",
   "execution_count": 12,
   "metadata": {},
   "outputs": [],
   "source": [
    "x.close()"
   ]
  }
 ],
 "metadata": {
  "kernelspec": {
   "display_name": "Python 3",
   "language": "python",
   "name": "python3"
  },
  "language_info": {
   "codemirror_mode": {
    "name": "ipython",
    "version": 3
   },
   "file_extension": ".py",
   "mimetype": "text/x-python",
   "name": "python",
   "nbconvert_exporter": "python",
   "pygments_lexer": "ipython3",
   "version": "3.7.3"
  }
 },
 "nbformat": 4,
 "nbformat_minor": 4
}
