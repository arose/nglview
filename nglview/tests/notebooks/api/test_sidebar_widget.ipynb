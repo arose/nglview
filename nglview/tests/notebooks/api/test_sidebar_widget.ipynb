{
 "cells": [
  {
   "cell_type": "code",
   "execution_count": 2,
   "metadata": {},
   "outputs": [
    {
     "data": {
      "application/vnd.jupyter.widget-view+json": {
       "model_id": "5d79bf9db943415a9643a184f598a8c7",
       "version_major": 2,
       "version_minor": 0
      },
      "text/plain": [
       "Sidebar()"
      ]
     },
     "metadata": {},
     "output_type": "display_data"
    },
    {
     "data": {
      "application/vnd.jupyter.widget-view+json": {
       "model_id": "3df437b63bd34143afbd939b3f6e841b",
       "version_major": 2,
       "version_minor": 0
      },
      "text/plain": [
       "GridBox(children=(NGLWidget(), Sidebar()), layout=Layout(grid_template_columns='auto 350px'))"
      ]
     },
     "metadata": {},
     "output_type": "display_data"
    }
   ],
   "source": [
    "import nglview as nv\n",
    "from ipywidgets import *\n",
    "from IPython.display import display\n",
    "\n",
    "v = nv.demo()\n",
    "s = nv.widget.Sidebar(v.model_id)\n",
    "display(s)\n",
    "app = GridBox([v, s])\n",
    "app.layout.grid_template_columns = 'auto 350px'\n",
    "def on_displayed(app):\n",
    "    v._execute_js_code(\"\"\"\n",
    "\n",
    "    var cviews = this.options.parent.children_views.views\n",
    "    console.log(cviews)\n",
    "    var view = cviews[0]\n",
    "    var sidebar = cviews[1]\n",
    "    Promise.all([view, sidebar]).then((all) =>{\n",
    "        var v = all[0]\n",
    "        var s = all[1]\n",
    "        console.log(v, s)\n",
    "        if (!s.sidebar.stage){\n",
    "            s.sidebar.setStage(v.stage)\n",
    "        }\n",
    "    })\n",
    "    \"\"\")\n",
    "app.on_displayed(on_displayed)\n",
    "app"
   ]
  },
  {
   "cell_type": "code",
   "execution_count": 3,
   "metadata": {},
   "outputs": [
    {
     "data": {
      "application/vnd.jupyter.widget-view+json": {
       "model_id": "3df437b63bd34143afbd939b3f6e841b",
       "version_major": 2,
       "version_minor": 0
      },
      "text/plain": [
       "GridBox(children=(NGLWidget(n_components=1), Sidebar()), layout=Layout(grid_template_columns='auto 350px'))"
      ]
     },
     "metadata": {},
     "output_type": "display_data"
    }
   ],
   "source": [
    "app"
   ]
  }
 ],
 "metadata": {
  "kernelspec": {
   "display_name": "Python 3",
   "language": "python",
   "name": "python3"
  },
  "language_info": {
   "codemirror_mode": {
    "name": "ipython",
    "version": 3
   },
   "file_extension": ".py",
   "mimetype": "text/x-python",
   "name": "python",
   "nbconvert_exporter": "python",
   "pygments_lexer": "ipython3",
   "version": "3.7.3"
  }
 },
 "nbformat": 4,
 "nbformat_minor": 4
}
