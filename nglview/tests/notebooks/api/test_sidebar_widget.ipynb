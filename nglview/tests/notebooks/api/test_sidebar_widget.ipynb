{
 "cells": [
  {
   "cell_type": "code",
   "execution_count": 17,
   "metadata": {},
   "outputs": [
    {
     "data": {
      "application/vnd.jupyter.widget-view+json": {
       "model_id": "6f75d028768841fc953575097ecab7dd",
       "version_major": 2,
       "version_minor": 0
      },
      "text/plain": [
       "Sidebar()"
      ]
     },
     "metadata": {},
     "output_type": "display_data"
    },
    {
     "data": {
      "application/vnd.jupyter.widget-view+json": {
       "model_id": "e099699f12b849478a87422a459d4bb4",
       "version_major": 2,
       "version_minor": 0
      },
      "text/plain": [
       "HTML(value='\\n<style>\\n.nglview-app{\\n    background: white\\n}\\n</style>\\n')"
      ]
     },
     "metadata": {},
     "output_type": "display_data"
    },
    {
     "data": {
      "application/vnd.jupyter.widget-view+json": {
       "model_id": "e54bc16c22e049c6a5b38483767cefe8",
       "version_major": 2,
       "version_minor": 0
      },
      "text/plain": [
       "GridBox(children=(Sidebar(), NGLWidget()), layout=Layout(grid_template_columns='350px auto'), _dom_classes=('n…"
      ]
     },
     "metadata": {},
     "output_type": "display_data"
    }
   ],
   "source": [
    "import nglview as nv\n",
    "from ipywidgets import *\n",
    "from IPython.display import display\n",
    "\n",
    "v = nv.demo()\n",
    "s = nv.widget.Sidebar()\n",
    "display(s)\n",
    "app = GridBox([s, v])\n",
    "app.layout.grid_template_columns = '350px auto'\n",
    "def on_displayed(app):\n",
    "    v.handle_resize()\n",
    "    v._execute_js_code(\"\"\"\n",
    "\n",
    "    var cviews = this.options.parent.children_views.views\n",
    "    console.log(cviews)\n",
    "    var view = cviews[1]\n",
    "    var sidebar = cviews[0]\n",
    "    Promise.all([view, sidebar]).then((all) =>{\n",
    "        var v = all[0]\n",
    "        var s = all[1]\n",
    "        console.log(v, s)\n",
    "        s.setStage(v.stage)\n",
    "    })\n",
    "    \"\"\")\n",
    "app.on_displayed(on_displayed)\n",
    "_ = app.add_class(\"nglview-app\")\n",
    "display(HTML(\"\"\"\n",
    "<style>\n",
    ".nglview-app{\n",
    "    background: white\n",
    "}\n",
    "</style>\n",
    "\"\"\"))\n",
    "app"
   ]
  },
  {
   "cell_type": "code",
   "execution_count": 18,
   "metadata": {
    "scrolled": false
   },
   "outputs": [
    {
     "data": {
      "application/vnd.jupyter.widget-view+json": {
       "model_id": "a1762ad9bc6a4b469dd1f8d407d10345",
       "version_major": 2,
       "version_minor": 0
      },
      "text/plain": [
       "Fullscreen()"
      ]
     },
     "metadata": {},
     "output_type": "display_data"
    }
   ],
   "source": [
    "fs = nv.widget.Fullscreen(app, [v])\n",
    "fs"
   ]
  },
  {
   "cell_type": "code",
   "execution_count": 19,
   "metadata": {},
   "outputs": [],
   "source": [
    "fs.fullscreen()"
   ]
  },
  {
   "cell_type": "code",
   "execution_count": 20,
   "metadata": {},
   "outputs": [
    {
     "data": {
      "application/vnd.jupyter.widget-view+json": {
       "model_id": "9ff7aff018bd4e68a2fa8eb01d4be9fc",
       "version_major": 2,
       "version_minor": 0
      },
      "text/plain": [
       "HTML(value='')"
      ]
     },
     "metadata": {},
     "output_type": "display_data"
    },
    {
     "data": {
      "application/vnd.jupyter.widget-view+json": {
       "model_id": "58a6458b06d44e1f992597b0513bbbf8",
       "version_major": 2,
       "version_minor": 0
      },
      "text/plain": [
       "NGLWidget(gui_style='ngl')"
      ]
     },
     "metadata": {},
     "output_type": "display_data"
    }
   ],
   "source": [
    "v2 = nv.demo()\n",
    "v2.gui_style = 'ngl'\n",
    "v2"
   ]
  },
  {
   "cell_type": "code",
   "execution_count": null,
   "metadata": {},
   "outputs": [],
   "source": []
  }
 ],
 "metadata": {
  "kernelspec": {
   "display_name": "Python 3",
   "language": "python",
   "name": "python3"
  },
  "language_info": {
   "codemirror_mode": {
    "name": "ipython",
    "version": 3
   },
   "file_extension": ".py",
   "mimetype": "text/x-python",
   "name": "python",
   "nbconvert_exporter": "python",
   "pygments_lexer": "ipython3",
   "version": "3.7.3"
  }
 },
 "nbformat": 4,
 "nbformat_minor": 4
}
