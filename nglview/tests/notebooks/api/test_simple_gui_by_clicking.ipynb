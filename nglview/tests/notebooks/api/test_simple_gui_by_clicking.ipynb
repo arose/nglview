{
 "cells": [
  {
   "cell_type": "code",
   "execution_count": 2,
   "metadata": {
    "collapsed": false
   },
   "outputs": [],
   "source": [
    "import nglview as nv\n",
    "import time\n",
    "import ipywidgets\n",
    "\n",
    "wait = 2\n",
    "\n",
    "view = nv.demo(gui=True)\n",
    "view"
   ]
  },
  {
   "cell_type": "code",
   "execution_count": 12,
   "metadata": {
    "collapsed": true
   },
   "outputs": [],
   "source": [
    "def click_tab(tab, wait=wait):\n",
    "    for index, child in enumerate(tab.children):\n",
    "        # click each tab\n",
    "        tab.selected_index = index\n",
    "        time.sleep(wait)"
   ]
  },
  {
   "cell_type": "markdown",
   "metadata": {},
   "source": [
    "# Click each tab"
   ]
  },
  {
   "cell_type": "code",
   "execution_count": 13,
   "metadata": {
    "collapsed": false
   },
   "outputs": [],
   "source": [
    "click_tab(view._gui)"
   ]
  },
  {
   "cell_type": "code",
   "execution_count": 14,
   "metadata": {
    "collapsed": true
   },
   "outputs": [],
   "source": [
    "extra_tab = view.player._make_extra_box()\n",
    "extra_tab"
   ]
  },
  {
   "cell_type": "code",
   "execution_count": 15,
   "metadata": {
    "collapsed": true
   },
   "outputs": [],
   "source": [
    "click_tab(extra_tab)"
   ]
  }
 ],
 "metadata": {
  "anaconda-cloud": {},
  "kernelspec": {
   "display_name": "Python [default]",
   "language": "python",
   "name": "python3"
  },
  "language_info": {
   "codemirror_mode": {
    "name": "ipython",
    "version": 3
   },
   "file_extension": ".py",
   "mimetype": "text/x-python",
   "name": "python",
   "nbconvert_exporter": "python",
   "pygments_lexer": "ipython3",
   "version": "3.5.1"
  },
  "widgets": {
   "state": {
    "00f71a1424024ad0bd434ef892c2b175": {
     "views": [
      {
       "cell_index": 0
      }
     ]
    },
    "01da3023dcd5465bbd9aedd42e11df96": {
     "views": [
      {
       "cell_index": 0
      }
     ]
    },
    "05efeeddcf9a45b789604e9b2510c155": {
     "views": [
      {
       "cell_index": 0
      }
     ]
    },
    "13d047fbeeff4b40a05603dc16df8814": {
     "views": [
      {
       "cell_index": 0
      }
     ]
    },
    "16ebed99b0e24312a02447079c6812ea": {
     "views": [
      {
       "cell_index": 0
      }
     ]
    },
    "21b32560dbd741e9b40f4a5153261cde": {
     "views": [
      {
       "cell_index": 0
      }
     ]
    },
    "2e2f414be12440b594634e869c399e49": {
     "views": [
      {
       "cell_index": 0
      }
     ]
    },
    "30f8e2f1afd5482e84a0cf9e1623958d": {
     "views": [
      {
       "cell_index": 0
      }
     ]
    },
    "341ac594b1194368b8771e1a3494d1e6": {
     "views": [
      {
       "cell_index": 0
      }
     ]
    },
    "356219e90d6c4e1ebd79d1a2bc8a5173": {
     "views": [
      {
       "cell_index": 0
      }
     ]
    },
    "377801485e6942b8a95f80d03b46a727": {
     "views": [
      {
       "cell_index": 0
      }
     ]
    },
    "37962ee82d6b49b4bd44c6c4f3d322fa": {
     "views": [
      {
       "cell_index": 0
      }
     ]
    },
    "37fe2f10233d4a55bdf5a2712a784b90": {
     "views": [
      {
       "cell_index": 0
      }
     ]
    },
    "38ef53927c994340a85572228afbf9c0": {
     "views": [
      {
       "cell_index": 0
      }
     ]
    },
    "4512691c43f54996b52e74361b92c346": {
     "views": [
      {
       "cell_index": 0
      }
     ]
    },
    "5b8c6b5565e645ccb5955eb7cbe85155": {
     "views": [
      {
       "cell_index": 0
      }
     ]
    },
    "6a54b2a009254c579d8e13f6c4e3e3de": {
     "views": [
      {
       "cell_index": 0
      }
     ]
    },
    "6aa15be23d074953bb5e8e7f658d0045": {
     "views": [
      {
       "cell_index": 0
      }
     ]
    },
    "9297d8a768ad4087985db6175f7c5b13": {
     "views": [
      {
       "cell_index": 0
      }
     ]
    },
    "9676f469204740abb601eef347a33af8": {
     "views": [
      {
       "cell_index": 0
      }
     ]
    },
    "a12c3bbf73844baa9bfcb02f6bf43315": {
     "views": [
      {
       "cell_index": 0
      }
     ]
    },
    "a4934712afe34f398c9a528e83ae2c6b": {
     "views": [
      {
       "cell_index": 0
      }
     ]
    },
    "a4cd4e7ed2014a6f80470aea84f73920": {
     "views": [
      {
       "cell_index": 0
      }
     ]
    },
    "c4ec02cea7e841a680cad4fa7c15c05a": {
     "views": [
      {
       "cell_index": 0
      }
     ]
    },
    "c6bff98f57924731b11db92393378f6d": {
     "views": [
      {
       "cell_index": 0
      }
     ]
    },
    "c7fbd708232846dd995013839de50c98": {
     "views": [
      {
       "cell_index": 0
      }
     ]
    },
    "cc0c5895480a4a1cbc332585709b4328": {
     "views": [
      {
       "cell_index": 0
      }
     ]
    },
    "cf5b1a9921144053b709aa34a3be0cf1": {
     "views": [
      {
       "cell_index": 0
      }
     ]
    },
    "e86f28179a844ec195fee42bb8951e53": {
     "views": [
      {
       "cell_index": 0
      }
     ]
    },
    "ea89d249f22e4d0b92161e4695425087": {
     "views": [
      {
       "cell_index": 0
      }
     ]
    },
    "ed04a128eb174ae9b1630dfdb6777e78": {
     "views": [
      {
       "cell_index": 0
      }
     ]
    },
    "edadf6584d4b463fb7ffb97365104164": {
     "views": [
      {
       "cell_index": 0
      }
     ]
    }
   },
   "version": "1.2.0"
  }
 },
 "nbformat": 4,
 "nbformat_minor": 0
}
