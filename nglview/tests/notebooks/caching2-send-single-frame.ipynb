{
 "cells": [
  {
   "cell_type": "code",
   "execution_count": 5,
   "metadata": {
    "collapsed": false
   },
   "outputs": [],
   "source": [
    "import pytraj as pt\n",
    "import nglview as nv\n",
    "\n",
    "root = \n",
    "fn = root + 'f2_loop/md10.nc'\n",
    "tn = root + '/prmtop'\n",
    "\n",
    "traj = pt.load(fn, tn).autoimage().superpose(mask='@P')\n",
    "\n",
    "view = nv.show_pytraj(traj)\n",
    "view.representations = []\n",
    "view.add_cartoon()\n",
    "view"
   ]
  },
  {
   "cell_type": "code",
   "execution_count": 6,
   "metadata": {
    "collapsed": true
   },
   "outputs": [],
   "source": [
    "view._clear_repr()\n",
    "view.add_licorice('not hydrogen')"
   ]
  },
  {
   "cell_type": "code",
   "execution_count": 7,
   "metadata": {
    "collapsed": true
   },
   "outputs": [],
   "source": [
    "view.caching()"
   ]
  },
  {
   "cell_type": "code",
   "execution_count": 15,
   "metadata": {
    "collapsed": true
   },
   "outputs": [],
   "source": [
    "view.add_licorice()"
   ]
  },
  {
   "cell_type": "code",
   "execution_count": 4,
   "metadata": {
    "collapsed": false
   },
   "outputs": [
    {
     "data": {
      "text/plain": [
       "pytraj.Trajectory, 1000 frames: \n",
       "Size: 0.290751 (GB)\n",
       "<Topology: 13008 atoms, 4189 residues, 4174 mols, PBC with box type = truncoct>\n",
       "           "
      ]
     },
     "execution_count": 4,
     "metadata": {},
     "output_type": "execute_result"
    }
   ],
   "source": [
    "traj"
   ]
  }
 ],
 "metadata": {
  "kernelspec": {
   "display_name": "Python 3",
   "language": "python",
   "name": "python3"
  },
  "language_info": {
   "codemirror_mode": {
    "name": "ipython",
    "version": 3
   },
   "file_extension": ".py",
   "mimetype": "text/x-python",
   "name": "python",
   "nbconvert_exporter": "python",
   "pygments_lexer": "ipython3",
   "version": "3.5.1"
  }
 },
 "nbformat": 4,
 "nbformat_minor": 0
}
