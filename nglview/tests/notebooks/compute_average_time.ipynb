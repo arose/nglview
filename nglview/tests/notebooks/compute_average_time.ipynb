{
 "cells": [
  {
   "cell_type": "code",
   "execution_count": 92,
   "metadata": {
    "collapsed": true
   },
   "outputs": [],
   "source": [
    "def average_time(msg):\n",
    "    lines = msg.split('\\n')\n",
    "    y = []\n",
    "    for line in lines:\n",
    "        try:\n",
    "            time_float = [float(x) for x in line.split()[:2]]\n",
    "            y.append(sum(time_float))\n",
    "        except ValueError:\n",
    "            pass\n",
    "    return y"
   ]
  },
  {
   "cell_type": "code",
   "execution_count": 93,
   "metadata": {
    "collapsed": true
   },
   "outputs": [],
   "source": [
    "msg = \"\"\"22.18115234375 18 widget_ngl.js:526:17\n",
    "44.594970703125 13 widget_ngl.js:526:17\n",
    "16.342529296875 4 widget_ngl.js:526:17\n",
    "29.248291015625 4 widget_ngl.js:526:17\n",
    "22.453857421875 4 widget_ngl.js:526:17\n",
    "32.4580078125 2 widget_ngl.js:526:17\n",
    "29.033935546875 2 widget_ngl.js:526:17\n",
    "19.5537109375 3 widget_ngl.js:526:17\n",
    "23.139892578125 3 widget_ngl.js:526:17\n",
    "14.035400390625 3 widget_ngl.js:526:17\n",
    "22.641845703125 3 widget_ngl.js:526:17\n",
    "21.192138671875 2 widget_ngl.js:526:17\n",
    "49.234375 3 widget_ngl.js:526:17\n",
    "17.251220703125 2 widget_ngl.js:526:17\n",
    "24.5546875 2 widget_ngl.js:526:17\n",
    "11.43359375 2 widget_ngl.js:526:17\n",
    "15.252685546875 2 widget_ngl.js:526:17\n",
    "14.638427734375 7 widget_ngl.js:526:17\n",
    "21.86962890625 2 widget_ngl.js:526:17\n",
    "30.857177734375 2 widget_ngl.js:526:17\n",
    "48.96337890625 2 widget_ngl.js:526:17\n",
    "64.806884765625 2 widget_ngl.js:526:17\n",
    "36.239013671875 2 widget_ngl.js:526:17\n",
    "33.99951171875 2 widget_ngl.js:526:17\n",
    "67.23291015625 2 widget_ngl.js:526:17\n",
    "12.064208984375 3 widget_ngl.js:526:17\n",
    "36.246337890625 2 widget_ngl.js:526:17\n",
    "20.770751953125 2 widget_ngl.js:526:17\n",
    "20.475830078125 2 widget_ngl.js:526:17\n",
    "24.868896484375 2 widget_ngl.js:526:17\n",
    "12.787109375 2 widget_ngl.js:526:17\n",
    "28.49951171875 2 widget_ngl.js:526:17\n",
    "23.235107421875 2 widget_ngl.js:526:17\n",
    "13.01611328125 2\"\"\""
   ]
  },
  {
   "cell_type": "code",
   "execution_count": 94,
   "metadata": {
    "collapsed": false,
    "scrolled": false
   },
   "outputs": [
    {
     "data": {
      "text/plain": [
       "30.505091050091913"
      ]
     },
     "execution_count": 94,
     "metadata": {},
     "output_type": "execute_result"
    }
   ],
   "source": [
    "import numpy as np\n",
    "\n",
    "np.mean(average_time(msg))"
   ]
  },
  {
   "cell_type": "code",
   "execution_count": 95,
   "metadata": {
    "collapsed": true
   },
   "outputs": [],
   "source": [
    "msg2 = \"\"\"46.57275390625 45 widget_ngl.js:509:17\n",
    "57.01513671875 39 widget_ngl.js:509:17\n",
    "51.072265625 30 widget_ngl.js:509:17\n",
    "29.59033203125 28 widget_ngl.js:509:17\n",
    "29.40087890625 27 widget_ngl.js:509:17\n",
    "36.1953125 27 widget_ngl.js:509:17\n",
    "41.921630859375 27 widget_ngl.js:509:17\n",
    "26.28662109375 27 widget_ngl.js:509:17\n",
    "40.515625 27 widget_ngl.js:509:17\n",
    "48.0166015625 27 widget_ngl.js:509:17\n",
    "103.7763671875 28 widget_ngl.js:509:17\n",
    "26.089111328125 27 widget_ngl.js:509:17\n",
    "43.727783203125 27 widget_ngl.js:509:17\n",
    "54.123046875 27 widget_ngl.js:509:17\n",
    "33.97021484375 27 widget_ngl.js:509:17\n",
    "37.894775390625 27 widget_ngl.js:509:17\n",
    "25.99365234375 27 widget_ngl.js:509:17\n",
    "28.959716796875 27 widget_ngl.js:509:17\n",
    "34.66943359375 27 widget_ngl.js:509:17\n",
    "34.181396484375 27 widget_ngl.js:509:17\n",
    "45.087646484375 27 widget_ngl.js:509:17\n",
    "47.54541015625 29 widget_ngl.js:509:17\n",
    "35.03515625 28 widget_ngl.js:509:17\n",
    "83.522705078125 27 widget_ngl.js:509:17\n",
    "36.611083984375 27 widget_ngl.js:509:17\n",
    "39.617919921875 27 widget_ngl.js:509:17\n",
    "39.55859375 30 widget_ngl.js:509:17\n",
    "41.003662109375 26 widget_ngl.js:509:17\n",
    "33.459716796875 27 widget_ngl.js:509:17\n",
    "38.62939453125 27\"\"\""
   ]
  },
  {
   "cell_type": "code",
   "execution_count": 96,
   "metadata": {
    "collapsed": false
   },
   "outputs": [
    {
     "data": {
      "text/plain": [
       "70.668131510416671"
      ]
     },
     "execution_count": 96,
     "metadata": {},
     "output_type": "execute_result"
    }
   ],
   "source": [
    "import numpy as np\n",
    "\n",
    "np.mean(average_time(msg2))"
   ]
  }
 ],
 "metadata": {
  "kernelspec": {
   "display_name": "Python 3",
   "language": "python",
   "name": "python3"
  },
  "language_info": {
   "codemirror_mode": {
    "name": "ipython",
    "version": 3
   },
   "file_extension": ".py",
   "mimetype": "text/x-python",
   "name": "python",
   "nbconvert_exporter": "python",
   "pygments_lexer": "ipython3",
   "version": "3.5.1"
  }
 },
 "nbformat": 4,
 "nbformat_minor": 0
}
