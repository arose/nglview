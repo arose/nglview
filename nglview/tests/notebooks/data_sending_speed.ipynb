{
 "cells": [
  {
   "cell_type": "code",
   "execution_count": 1,
   "metadata": {
    "collapsed": true
   },
   "outputs": [],
   "source": [
    "import pytraj as pt\n",
    "import nglview as nv\n",
    "\n",
    "traj = pt.datafiles.load_tz2()\n",
    "view = nv.show_pytraj(traj)\n",
    "view"
   ]
  },
  {
   "cell_type": "code",
   "execution_count": 2,
   "metadata": {
    "collapsed": false
   },
   "outputs": [
    {
     "data": {
      "text/plain": [
       "'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'"
      ]
     },
     "execution_count": 2,
     "metadata": {},
     "output_type": "execute_result"
    }
   ],
   "source": [
    "view.trajectory.get_base64(3)"
   ]
  },
  {
   "cell_type": "code",
   "execution_count": 3,
   "metadata": {
    "collapsed": false
   },
   "outputs": [
    {
     "name": "stdout",
     "output_type": "stream",
     "text": [
      "CPU times: user 8 ms, sys: 0 ns, total: 8 ms\n",
      "Wall time: 8.43 ms\n"
     ]
    }
   ],
   "source": [
    "%%time\n",
    "\n",
    "view.send(traj[0].xyz.tolist())"
   ]
  },
  {
   "cell_type": "code",
   "execution_count": 4,
   "metadata": {
    "collapsed": false
   },
   "outputs": [
    {
     "name": "stdout",
     "output_type": "stream",
     "text": [
      "CPU times: user 2 ms, sys: 0 ns, total: 2 ms\n",
      "Wall time: 2.18 ms\n"
     ]
    }
   ],
   "source": [
    "%%time\n",
    "\n",
    "view.send(view.trajectory.get_base64(3))"
   ]
  },
  {
   "cell_type": "code",
   "execution_count": 12,
   "metadata": {
    "collapsed": false
   },
   "outputs": [
    {
     "data": {
      "text/html": [
       "\n",
       "<script>\n",
       "var decode = function(base64) {\n",
       "    var chars =\n",
       "        \"ABCDEFGHIJKLMNOPQRSTUVWXYZabcdefghijklmnopqrstuvwxyz0123456789+/\";\n",
       "    var bufferLength = base64.length * 0.75,\n",
       "        len = base64.length,\n",
       "        i, p = 0,\n",
       "        encoded1, encoded2, encoded3, encoded4;\n",
       "\n",
       "    if (base64[base64.length - 1] === \"=\") {\n",
       "        bufferLength--;\n",
       "        if (base64[base64.length - 2] === \"=\") {\n",
       "            bufferLength--;\n",
       "        }\n",
       "    }\n",
       "\n",
       "    var arraybuffer = new ArrayBuffer(bufferLength),\n",
       "        bytes = new Uint8Array(arraybuffer);\n",
       "\n",
       "    for (i = 0; i < len; i += 4) {\n",
       "        encoded1 = chars.indexOf(base64[i]);\n",
       "        encoded2 = chars.indexOf(base64[i + 1]);\n",
       "        encoded3 = chars.indexOf(base64[i + 2]);\n",
       "        encoded4 = chars.indexOf(base64[i + 3]);\n",
       "\n",
       "        bytes[p++] = (encoded1 << 2) | (encoded2 >> 4);\n",
       "        bytes[p++] = ((encoded2 & 15) << 4) | (encoded3 >> 2);\n",
       "        bytes[p++] = ((encoded3 & 3) << 6) | (encoded4 & 63);\n",
       "    }\n",
       "\n",
       "    return arraybuffer;\n",
       "};\n",
       "\n",
       "var x = \"wcrxv0SLEkE/NfJAaryEv1YOC0HVeOlAMzPzv5zEFEGgGglBmG4iwOkmB0HheuhAkxgEwBkEKEGoxt9AZmZGwBsvLUGWQ+NApHCdv9v5OEG+n/ZAj8LVv9v5PEGcxApBd76fv0oMSEGHFuVAbef7Pbx0M0GR7fxAukmMPuOlO0FMNwtByXbOvyGwJkEQWLFAO98fwJHtJkFKDJZAWmS7vukmKUFI4aJAxSCwPsHKKUEj27lAFK5HPukmK0HXo3BAZDtfvqAaOUGJQVBASOHaP2IQLkFCYG1A308NQKjGH0G0yIJA8Kf2P4lBOkHwp45Aw/UQQPCnNEF1kxhASgwCQAAASEEj2+k/L93EP/hTVUEfhRNAPQo3QK5HSUEQWDk/vHQ7QMl2VkGYbhI+NV5qQClcN0FCYCU/CteTQFyPMkHD9ai+VOOhQNnOPUGq8YK/eemiQO58HUElBsG++FO7QI/CGUGkcI2/pHCRQJqZDUEK1+M+BFaaQEjh+kA1Xjo+0SJjQESLEkESg7A/16NIQEjhBkGoxgNAzcxEQMuhJ0Hy0r0/XI9Cvne+GUHpJjFAi2znvnNoH0HufM8/TDeJvphuBkFCYFVAuB6FvmZmBEGDwIpA0SIbvwaB5UBzaClA7FE4vhKD6ECq8dI/yXa+vXe+v0C2811AGQQWv42XokAnMUhAbeerP2q8tEAbL0VAAiunP/YooECR7QxAcT36P0Jg0UBU4z1A5/vpPw4tokCLbHdAqMaLvjvfx0Db+ZpA0SLbPgAAuEAIrKhACKwEwFg53EBkOxdAdZM4wIXr1UDD9VBA+n4awNV42UCamYk/nMTQvycx2ECcxOA+kxhswOkmyUCR7Rw/TDeJwNejwEB7FL4/SOGOwM3M6EA3iYG+ZmauwKJF2kBaZLu+ObSAwBsv5UDb+Z6/WDmUwGiRC0Etsp09Xrp5wHNoG0HHS/e+LbJFwBfZGEErh5a/0SKPwJzELkFOYhC+HVqEwKjGPUEIrJy+DAKvwJ7vK0G6SUw/XI/KwIcWO0FSuK4//tTIwJ7vS0HXo5A/z/frwNEiM0Ej2wlAFK4DwekmPUECKxdA9ij0wBsvHUF1kxBAYhAGwUa2F0FCYD1A/tTYwOF6DkH8qdE/AivfwG3n+0DpJvE/+n62wFCNFUGHFlk/sHJowMuhnUCWQ4u9ke2IwJHtfEA/NZ4+SOEywG3nm0BokY2/wcoRwPCntkBaZKu/cT0iwKJFbkCamfm/sHJAwAisPEC6Say/mG5awDeJYUBGtkvAYOVIwBKDhEBMN4HAHVqMwDVeckCHFjHAexRewHnpBkA732/AppscwAaB5T/0/XzAfT+BwDMzG0Ce75PASgyGwHe+jz9okTXAWmRzwEJgRT8j29m/f2qowCPbGT99P03Ai2yHv+kmYUDsURDArByavn0/jUCynSfADAIrv8P1EEB1kwDAEFipv8/30z/0/cS/gZUjP4cW2T+HFhHAjZeeP/T9HEBzaDHAary0PxfZrj8/NX6/BFYOQM/3Mz99P6W/okU2P8HKYT9kO5++I9sJQDMzI0AnMci+qMYzQD81VkCLbIe/2/kWQEw3IUBokW0/ZDvvP+XQ8j8CK8c/N4lBQESLTEDl0KI/000CPyPb+T4K10vA5/vpvgAAgL6JQUDAlkO7P5HtfD60yILA2c4XQLByKD/jpXvAbxKzP3npZr+q8Z7AH4ULQMHKYb/HS7fAiUEAP0SLTL+YbrLAEFi5P5qZEcAZBIrArBw6Py/dJMDHS1fAoBoXQFCNR8DLoZnAuB5FQA4tMsDLoa3Avp8iQLBykMDwp47AiUHQP+F6oMB/aoTAO99HQFYOqcASg7TACtcbQKjGp8BQjc/ApHBVQA4tysBt56vA30+NQDvfl8Ce78fAI9upQFK4nsC4HrXAdZOMQNEia8BKDM7AZDuXQJMYsMDpJvHA7nx/QDm0qMCR7QTBIbCSQEJg0cBGtufAarzEQOXQqsBWDgHBCKzQQK5HycCgGgfB0SLbQM3MoMCuR+nA/KnFQKRwjcCLbBPB1XjBQAwCY8BQjQvBJzHkQESLjMBqvBjBbxKvQJqZkcDNzB7BnMRgQKabkMDTTVLAz/eTQBBYocDTTVLAMzM7QCcxiMCLbAfA16MAQIlBeMBYORTA8tJVQE5iiMA1Xjq/uB6NQKRwgcAQWDm/AAAoQB1aRMD0/dS9WmTLP+XQUsBQjRc+pHA1QH9qDMB1kzi/mG5SQGiRHcDjpYs/MzM7QG3nG8DpJhlA1Xj5P9EiM8BaZCtAUrh2QPYo7L8EVk5A16N4QESL7L/ufIdAyXaaQLTIpr+sHBpA6Sa9QOkm8b4tsi1AsHLEQHe+H77dJG5AeenaQE5iEL5/atw/MzP3QClczz7pJgFAIbDSQD0KF79Qjdc+WmTnQNejcL5/ary+aJGtQBkEpr+e76c9sHKkQB+Fu78OLXK/+FOPQClcz7/+1Ig/4Xo8QNv5ssA9Cte9c2hBQJqZ1cCNly6/5/shQO58s8D0/ZQ/BoEtQHNomcBokd0/iUEQQM/328DsUeg/F9k+QBBY9cCYbtI/fT8NQG3n08DhelRAf2rcPxBYtcD8qWFANV66P4cW9cCcxIRANV7KPxfZ7sAX2aZA8tLNPtv57sBEi3xAzczcP3E9CsHsUXBApHBdQDEI0MBWDn1A16NYQKAaw8DTTZpAgZVjP/hT68AxCKw/xSAwvuxR2MBvEsM/nu9nPx1aCMGq8TI/RIvcPwrXEcFt5zs/EoNAvlYOEcEK16O9CKw8vx+FA8GkcP2+qvHSPvYoIMHb+Y6/yXaOPylcK8FMNym/bxJjP1TjFcG28+2/5/sJvxfZLsGwcui/YhCov9v5KsHVeDnA0SKrv1g5HMGkcF3Aukn8v3WTPMHTTVrAdZMYwPLSPcFcj4rA+n76vz81TMHP9xvAcT0ywArXXcFYOQzATmJowCcxYMHdJDbAZmYmwBBYa8FaZIu/9ihUwGiRd8EhsFK/003Cvx+FZcEEVo6+mpmpv9v5bsG+nxo/oBpPvwRWUsErh9a+46UbvRBYTcFxPYo+HVqEv90kRMG2872/rByKvzEIHMEOLXI/j8I1v5zEKsEZBNY/GQQWwEw3FcGq8XI/Gy8dwItsBcG4HkU/exRewOXQHsFzaNE/PzVGwCUGJ8FzaCFAukmMwCUGDcGHFglAsHKswMHKEcH2KBxASgyOwN0kAMEdWrQ/0SJzwNV4AcErh1ZAYOU4wKwc8sCTGERAWDlswIGVC8G8dIdA0SKbwJzE4MCamWlArBy2wOkm7cCgGodA9iikwArXz8ApXC9AvHSDwKabwMCR7ZBARrZLwOxRtMACK4NA16N4wC2y0cDJdq5AYhCcwPypmcArh5pAWDmkwI/CicACK39A2/m2wNv5nsCBlatAAACIwH9qiMC4Hq1A16OMwLByLMGLbEc/vHSPwCUGP8EZBJY/vp+awGQ7I8HFILC+ObSUwPLSE8GiRRa/PQq3wCPbLcG8dKO/eemywNEiP8Efhau/WDnYwA4tLsHpJnG/L924wF66JcEpXA/A\";\n",
       "console.log( decode( x ));\n",
       "</script>"
      ],
      "text/plain": [
       "<IPython.core.display.HTML object>"
      ]
     },
     "metadata": {},
     "output_type": "display_data"
    }
   ],
   "source": [
    "%%html\n",
    "\n",
    "<script>\n",
    "var decode = function(base64) {\n",
    "    var chars =\n",
    "        \"ABCDEFGHIJKLMNOPQRSTUVWXYZabcdefghijklmnopqrstuvwxyz0123456789+/\";\n",
    "    var bufferLength = base64.length * 0.75,\n",
    "        len = base64.length,\n",
    "        i, p = 0,\n",
    "        encoded1, encoded2, encoded3, encoded4;\n",
    "\n",
    "    if (base64[base64.length - 1] === \"=\") {\n",
    "        bufferLength--;\n",
    "        if (base64[base64.length - 2] === \"=\") {\n",
    "            bufferLength--;\n",
    "        }\n",
    "    }\n",
    "\n",
    "    var arraybuffer = new ArrayBuffer(bufferLength),\n",
    "        bytes = new Uint8Array(arraybuffer);\n",
    "\n",
    "    for (i = 0; i < len; i += 4) {\n",
    "        encoded1 = chars.indexOf(base64[i]);\n",
    "        encoded2 = chars.indexOf(base64[i + 1]);\n",
    "        encoded3 = chars.indexOf(base64[i + 2]);\n",
    "        encoded4 = chars.indexOf(base64[i + 3]);\n",
    "\n",
    "        bytes[p++] = (encoded1 << 2) | (encoded2 >> 4);\n",
    "        bytes[p++] = ((encoded2 & 15) << 4) | (encoded3 >> 2);\n",
    "        bytes[p++] = ((encoded3 & 3) << 6) | (encoded4 & 63);\n",
    "    }\n",
    "\n",
    "    return arraybuffer;\n",
    "};\n",
    "\n",
    "var x = \"wcrxv0SLEkE/NfJAaryEv1YOC0HVeOlAMzPzv5zEFEGgGglBmG4iwOkmB0HheuhAkxgEwBkEKEGoxt9AZmZGwBsvLUGWQ+NApHCdv9v5OEG+n/ZAj8LVv9v5PEGcxApBd76fv0oMSEGHFuVAbef7Pbx0M0GR7fxAukmMPuOlO0FMNwtByXbOvyGwJkEQWLFAO98fwJHtJkFKDJZAWmS7vukmKUFI4aJAxSCwPsHKKUEj27lAFK5HPukmK0HXo3BAZDtfvqAaOUGJQVBASOHaP2IQLkFCYG1A308NQKjGH0G0yIJA8Kf2P4lBOkHwp45Aw/UQQPCnNEF1kxhASgwCQAAASEEj2+k/L93EP/hTVUEfhRNAPQo3QK5HSUEQWDk/vHQ7QMl2VkGYbhI+NV5qQClcN0FCYCU/CteTQFyPMkHD9ai+VOOhQNnOPUGq8YK/eemiQO58HUElBsG++FO7QI/CGUGkcI2/pHCRQJqZDUEK1+M+BFaaQEjh+kA1Xjo+0SJjQESLEkESg7A/16NIQEjhBkGoxgNAzcxEQMuhJ0Hy0r0/XI9Cvne+GUHpJjFAi2znvnNoH0HufM8/TDeJvphuBkFCYFVAuB6FvmZmBEGDwIpA0SIbvwaB5UBzaClA7FE4vhKD6ECq8dI/yXa+vXe+v0C2811AGQQWv42XokAnMUhAbeerP2q8tEAbL0VAAiunP/YooECR7QxAcT36P0Jg0UBU4z1A5/vpPw4tokCLbHdAqMaLvjvfx0Db+ZpA0SLbPgAAuEAIrKhACKwEwFg53EBkOxdAdZM4wIXr1UDD9VBA+n4awNV42UCamYk/nMTQvycx2ECcxOA+kxhswOkmyUCR7Rw/TDeJwNejwEB7FL4/SOGOwM3M6EA3iYG+ZmauwKJF2kBaZLu+ObSAwBsv5UDb+Z6/WDmUwGiRC0Etsp09Xrp5wHNoG0HHS/e+LbJFwBfZGEErh5a/0SKPwJzELkFOYhC+HVqEwKjGPUEIrJy+DAKvwJ7vK0G6SUw/XI/KwIcWO0FSuK4//tTIwJ7vS0HXo5A/z/frwNEiM0Ej2wlAFK4DwekmPUECKxdA9ij0wBsvHUF1kxBAYhAGwUa2F0FCYD1A/tTYwOF6DkH8qdE/AivfwG3n+0DpJvE/+n62wFCNFUGHFlk/sHJowMuhnUCWQ4u9ke2IwJHtfEA/NZ4+SOEywG3nm0BokY2/wcoRwPCntkBaZKu/cT0iwKJFbkCamfm/sHJAwAisPEC6Say/mG5awDeJYUBGtkvAYOVIwBKDhEBMN4HAHVqMwDVeckCHFjHAexRewHnpBkA732/AppscwAaB5T/0/XzAfT+BwDMzG0Ce75PASgyGwHe+jz9okTXAWmRzwEJgRT8j29m/f2qowCPbGT99P03Ai2yHv+kmYUDsURDArByavn0/jUCynSfADAIrv8P1EEB1kwDAEFipv8/30z/0/cS/gZUjP4cW2T+HFhHAjZeeP/T9HEBzaDHAary0PxfZrj8/NX6/BFYOQM/3Mz99P6W/okU2P8HKYT9kO5++I9sJQDMzI0AnMci+qMYzQD81VkCLbIe/2/kWQEw3IUBokW0/ZDvvP+XQ8j8CK8c/N4lBQESLTEDl0KI/000CPyPb+T4K10vA5/vpvgAAgL6JQUDAlkO7P5HtfD60yILA2c4XQLByKD/jpXvAbxKzP3npZr+q8Z7AH4ULQMHKYb/HS7fAiUEAP0SLTL+YbrLAEFi5P5qZEcAZBIrArBw6Py/dJMDHS1fAoBoXQFCNR8DLoZnAuB5FQA4tMsDLoa3Avp8iQLBykMDwp47AiUHQP+F6oMB/aoTAO99HQFYOqcASg7TACtcbQKjGp8BQjc/ApHBVQA4tysBt56vA30+NQDvfl8Ce78fAI9upQFK4nsC4HrXAdZOMQNEia8BKDM7AZDuXQJMYsMDpJvHA7nx/QDm0qMCR7QTBIbCSQEJg0cBGtufAarzEQOXQqsBWDgHBCKzQQK5HycCgGgfB0SLbQM3MoMCuR+nA/KnFQKRwjcCLbBPB1XjBQAwCY8BQjQvBJzHkQESLjMBqvBjBbxKvQJqZkcDNzB7BnMRgQKabkMDTTVLAz/eTQBBYocDTTVLAMzM7QCcxiMCLbAfA16MAQIlBeMBYORTA8tJVQE5iiMA1Xjq/uB6NQKRwgcAQWDm/AAAoQB1aRMD0/dS9WmTLP+XQUsBQjRc+pHA1QH9qDMB1kzi/mG5SQGiRHcDjpYs/MzM7QG3nG8DpJhlA1Xj5P9EiM8BaZCtAUrh2QPYo7L8EVk5A16N4QESL7L/ufIdAyXaaQLTIpr+sHBpA6Sa9QOkm8b4tsi1AsHLEQHe+H77dJG5AeenaQE5iEL5/atw/MzP3QClczz7pJgFAIbDSQD0KF79Qjdc+WmTnQNejcL5/ary+aJGtQBkEpr+e76c9sHKkQB+Fu78OLXK/+FOPQClcz7/+1Ig/4Xo8QNv5ssA9Cte9c2hBQJqZ1cCNly6/5/shQO58s8D0/ZQ/BoEtQHNomcBokd0/iUEQQM/328DsUeg/F9k+QBBY9cCYbtI/fT8NQG3n08DhelRAf2rcPxBYtcD8qWFANV66P4cW9cCcxIRANV7KPxfZ7sAX2aZA8tLNPtv57sBEi3xAzczcP3E9CsHsUXBApHBdQDEI0MBWDn1A16NYQKAaw8DTTZpAgZVjP/hT68AxCKw/xSAwvuxR2MBvEsM/nu9nPx1aCMGq8TI/RIvcPwrXEcFt5zs/EoNAvlYOEcEK16O9CKw8vx+FA8GkcP2+qvHSPvYoIMHb+Y6/yXaOPylcK8FMNym/bxJjP1TjFcG28+2/5/sJvxfZLsGwcui/YhCov9v5KsHVeDnA0SKrv1g5HMGkcF3Aukn8v3WTPMHTTVrAdZMYwPLSPcFcj4rA+n76vz81TMHP9xvAcT0ywArXXcFYOQzATmJowCcxYMHdJDbAZmYmwBBYa8FaZIu/9ihUwGiRd8EhsFK/003Cvx+FZcEEVo6+mpmpv9v5bsG+nxo/oBpPvwRWUsErh9a+46UbvRBYTcFxPYo+HVqEv90kRMG2872/rByKvzEIHMEOLXI/j8I1v5zEKsEZBNY/GQQWwEw3FcGq8XI/Gy8dwItsBcG4HkU/exRewOXQHsFzaNE/PzVGwCUGJ8FzaCFAukmMwCUGDcGHFglAsHKswMHKEcH2KBxASgyOwN0kAMEdWrQ/0SJzwNV4AcErh1ZAYOU4wKwc8sCTGERAWDlswIGVC8G8dIdA0SKbwJzE4MCamWlArBy2wOkm7cCgGodA9iikwArXz8ApXC9AvHSDwKabwMCR7ZBARrZLwOxRtMACK4NA16N4wC2y0cDJdq5AYhCcwPypmcArh5pAWDmkwI/CicACK39A2/m2wNv5nsCBlatAAACIwH9qiMC4Hq1A16OMwLByLMGLbEc/vHSPwCUGP8EZBJY/vp+awGQ7I8HFILC+ObSUwPLSE8GiRRa/PQq3wCPbLcG8dKO/eemywNEiP8Efhau/WDnYwA4tLsHpJnG/L924wF66JcEpXA/A\";\n",
    "console.log( decode( x ));\n",
    "</script>"
   ]
  },
  {
   "cell_type": "code",
   "execution_count": 8,
   "metadata": {
    "collapsed": false
   },
   "outputs": [
    {
     "data": {
      "text/plain": [
       "array([ -1.88900006,   9.1590004 ,   7.56899977, ...,  -5.77699995,\n",
       "       -10.3579998 ,  -2.24000001], dtype=float32)"
      ]
     },
     "execution_count": 8,
     "metadata": {},
     "output_type": "execute_result"
    }
   ],
   "source": [
    "x = traj.xyz[0].flatten().astype('f4')\n",
    "x"
   ]
  },
  {
   "cell_type": "code",
   "execution_count": 10,
   "metadata": {
    "collapsed": false
   },
   "outputs": [
    {
     "data": {
      "text/plain": [
       "'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'"
      ]
     },
     "execution_count": 10,
     "metadata": {},
     "output_type": "execute_result"
    }
   ],
   "source": [
    "import base64\n",
    "\n",
    "base64.b64encode(x).decode('utf8')"
   ]
  },
  {
   "cell_type": "code",
   "execution_count": 15,
   "metadata": {
    "collapsed": false
   },
   "outputs": [
    {
     "ename": "TypeError",
     "evalue": "decode() missing 1 required positional argument: 'output'",
     "output_type": "error",
     "traceback": [
      "\u001b[1;31m---------------------------------------------------------------------------\u001b[0m",
      "\u001b[1;31mTypeError\u001b[0m                                 Traceback (most recent call last)",
      "\u001b[1;32m<ipython-input-15-9aba83321126>\u001b[0m in \u001b[0;36m<module>\u001b[1;34m()\u001b[0m\n\u001b[1;32m----> 1\u001b[1;33m \u001b[0mbase64\u001b[0m\u001b[1;33m.\u001b[0m\u001b[0mdecode\u001b[0m\u001b[1;33m(\u001b[0m\u001b[1;34m'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'\u001b[0m\u001b[1;33m)\u001b[0m\u001b[1;33m\u001b[0m\u001b[0m\n\u001b[0m",
      "\u001b[1;31mTypeError\u001b[0m: decode() missing 1 required positional argument: 'output'"
     ]
    }
   ],
   "source": [
    "base64.decode('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')"
   ]
  }
 ],
 "metadata": {
  "kernelspec": {
   "display_name": "Python 3",
   "language": "python",
   "name": "python3"
  },
  "language_info": {
   "codemirror_mode": {
    "name": "ipython",
    "version": 3
   },
   "file_extension": ".py",
   "mimetype": "text/x-python",
   "name": "python",
   "nbconvert_exporter": "python",
   "pygments_lexer": "ipython3",
   "version": "3.4.4"
  }
 },
 "nbformat": 4,
 "nbformat_minor": 0
}
