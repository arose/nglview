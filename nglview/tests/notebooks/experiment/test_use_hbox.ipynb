{
 "cells": [
  {
   "cell_type": "code",
   "execution_count": 2,
   "metadata": {
    "collapsed": false
   },
   "outputs": [
    {
     "data": {
      "application/javascript": [
       "\n",
       "    var cb = Jupyter.notebook.container;\n",
       "\n",
       "    cb.width('60%');\n",
       "    cb.offset({'left': 0})\n",
       "    "
      ],
      "text/plain": [
       "<IPython.core.display.Javascript object>"
      ]
     },
     "metadata": {},
     "output_type": "display_data"
    }
   ],
   "source": [
    "import nglview as nv\n",
    "from nglview.widget_box import HBoxNGL\n",
    "\n",
    "view = nv.demo()\n",
    "gui = view.display(gui=True, use_hbox=True)\n",
    "gui"
   ]
  },
  {
   "cell_type": "code",
   "execution_count": 6,
   "metadata": {
    "collapsed": false
   },
   "outputs": [],
   "source": [
    "gui._update_size()\n",
    "gui._update_padding()"
   ]
  }
 ],
 "metadata": {
  "anaconda-cloud": {},
  "kernelspec": {
   "display_name": "Python [default]",
   "language": "python",
   "name": "python3"
  },
  "language_info": {
   "codemirror_mode": {
    "name": "ipython",
    "version": 3
   },
   "file_extension": ".py",
   "mimetype": "text/x-python",
   "name": "python",
   "nbconvert_exporter": "python",
   "pygments_lexer": "ipython3",
   "version": "3.5.1"
  },
  "widgets": {
   "state": {
    "0cc373ccf0374603b691a219b30e0f87": {
     "views": [
      {
       "cell_index": 0
      }
     ]
    },
    "2438f5361428447aa2eb48950e44e713": {
     "views": [
      {
       "cell_index": 0
      }
     ]
    },
    "337498cbe4994204a6b3a279f30b19c2": {
     "views": [
      {
       "cell_index": 0
      }
     ]
    },
    "35d24cd59f6348bf9cf66d175e556d80": {
     "views": [
      {
       "cell_index": 0
      }
     ]
    },
    "399051e62f1a41e68ec1d1ffb01e3a80": {
     "views": [
      {
       "cell_index": 0
      }
     ]
    },
    "42be7a36d0a64c4f803e13b67e9052a0": {
     "views": [
      {
       "cell_index": 0
      }
     ]
    },
    "44928ded5d2a477aa958c221c7c0281e": {
     "views": [
      {
       "cell_index": 0
      }
     ]
    },
    "4801585f8e77433ca083ec35cbd41af5": {
     "views": [
      {
       "cell_index": 0
      }
     ]
    },
    "5581fa789be342ffa16cf4b18d89f749": {
     "views": [
      {
       "cell_index": 0
      }
     ]
    },
    "565424f13d67425495d309503a15a556": {
     "views": [
      {
       "cell_index": 0
      }
     ]
    },
    "5c825944ed824c6589c7d225e2aa1551": {
     "views": [
      {
       "cell_index": 0
      }
     ]
    },
    "615cd6914cca4d98a9d42daea1a95652": {
     "views": [
      {
       "cell_index": 0
      }
     ]
    },
    "704b82f852574625a16db55bea7f2e11": {
     "views": [
      {
       "cell_index": 0
      }
     ]
    },
    "7707e8b7bc524719b68556c46ba9c4e2": {
     "views": [
      {
       "cell_index": 0
      }
     ]
    },
    "7cf95fb41ca04b14a0be1b536d926e5a": {
     "views": [
      {
       "cell_index": 0
      }
     ]
    },
    "8aa1790e58464d2a9f7c39758cae8adc": {
     "views": [
      {
       "cell_index": 0
      }
     ]
    },
    "8f77b952a3e64f278886e1271f8212a1": {
     "views": [
      {
       "cell_index": 0
      }
     ]
    },
    "a191d95ab2d044b8807e8cac7c615f2d": {
     "views": [
      {
       "cell_index": 0
      }
     ]
    },
    "aa16797b08ba45449c7e61bdc112d712": {
     "views": [
      {
       "cell_index": 0
      }
     ]
    },
    "b2236f032dca479794351267f1f60bd4": {
     "views": [
      {
       "cell_index": 0
      }
     ]
    },
    "b84cf51ea2cf47658caebe33212c6623": {
     "views": [
      {
       "cell_index": 0
      }
     ]
    },
    "bdbf52661e5a4e1a93975a384623d9b0": {
     "views": [
      {
       "cell_index": 0
      }
     ]
    },
    "c3ec5f4610894228aad31c6442dbfee7": {
     "views": [
      {
       "cell_index": 0
      }
     ]
    },
    "d4dcd02135774c86a75e0631b23a874d": {
     "views": [
      {
       "cell_index": 0
      }
     ]
    },
    "e4450dd864a04395bb22e28c9671135c": {
     "views": [
      {
       "cell_index": 0
      }
     ]
    },
    "f176c96bd6e44ba5885bf6bf09ff8c9b": {
     "views": [
      {
       "cell_index": 0
      }
     ]
    }
   },
   "version": "1.2.0"
  }
 },
 "nbformat": 4,
 "nbformat_minor": 0
}
