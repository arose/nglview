{
 "cells": [
  {
   "cell_type": "code",
   "execution_count": 1,
   "metadata": {
    "collapsed": false
   },
   "outputs": [],
   "source": [
    "import nglview as nv, pytraj as pt\n",
    "\n",
    "traj = pt.load(nv.datafiles.TRR, nv.datafiles.PDB)\n",
    "\n",
    "view = nv.show_pytraj(traj)\n",
    "view"
   ]
  },
  {
   "cell_type": "code",
   "execution_count": 7,
   "metadata": {
    "collapsed": true
   },
   "outputs": [],
   "source": [
    "view.export_image()"
   ]
  },
  {
   "cell_type": "code",
   "execution_count": 5,
   "metadata": {
    "collapsed": false
   },
   "outputs": [
    {
     "name": "stdout",
     "output_type": "stream",
     "text": [
      "    def export_image(self, factor=1,\n",
      "                     antialias=True,\n",
      "                     trim=False,\n",
      "                     transparent=False):\n",
      "        \"\"\"render and download scence at current frame\n",
      "        \"\"\"\n",
      "        onProgress = False\n",
      "        params = dict(factor=factor,\n",
      "                      antialias=antialias,\n",
      "                      trim=trim,\n",
      "                      transparent=transparent)\n",
      "        self._remote_call('makeImage',\n",
      "                          target='Stage',\n",
      "                          kwargs=params)\n",
      "\n"
     ]
    }
   ],
   "source": [
    "pt.misc.show_code(view.export_image)"
   ]
  }
 ],
 "metadata": {
  "kernelspec": {
   "display_name": "Python 3",
   "language": "python",
   "name": "python3"
  },
  "language_info": {
   "codemirror_mode": {
    "name": "ipython",
    "version": 3
   },
   "file_extension": ".py",
   "mimetype": "text/x-python",
   "name": "python",
   "nbconvert_exporter": "python",
   "pygments_lexer": "ipython3",
   "version": "3.5.1"
  }
 },
 "nbformat": 4,
 "nbformat_minor": 0
}
