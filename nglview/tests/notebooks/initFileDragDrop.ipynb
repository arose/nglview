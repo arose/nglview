{
 "cells": [
  {
   "cell_type": "code",
   "execution_count": 30,
   "metadata": {
    "collapsed": false
   },
   "outputs": [
    {
     "name": "stdout",
     "output_type": "stream",
     "text": [
      "[UUID('73a6116f-00f3-4bca-a642-3d143d2d3db9')]\n",
      "[UUID('73a6116f-00f3-4bca-a642-3d143d2d3db9'), UUID('fbafe96b-53e6-4e88-89df-110a35a43034')]\n",
      "[UUID('73a6116f-00f3-4bca-a642-3d143d2d3db9'), UUID('fbafe96b-53e6-4e88-89df-110a35a43034'), UUID('8c1580e3-6811-4e0e-a680-94577e48e37f')]\n"
     ]
    }
   ],
   "source": [
    "import nglview as nv\n",
    "\n",
    "view = nv.NGLWidget()\n",
    "view"
   ]
  },
  {
   "cell_type": "code",
   "execution_count": 31,
   "metadata": {
    "collapsed": false
   },
   "outputs": [
    {
     "data": {
      "text/plain": [
       "3"
      ]
     },
     "execution_count": 31,
     "metadata": {},
     "output_type": "execute_result"
    }
   ],
   "source": [
    "view._n_dragged_files"
   ]
  },
  {
   "cell_type": "code",
   "execution_count": 8,
   "metadata": {
    "collapsed": false
   },
   "outputs": [
    {
     "data": {
      "text/plain": [
       "[]"
      ]
     },
     "execution_count": 8,
     "metadata": {},
     "output_type": "execute_result"
    }
   ],
   "source": [
    "view._ngl_component_ids"
   ]
  },
  {
   "cell_type": "code",
   "execution_count": 9,
   "metadata": {
    "collapsed": true
   },
   "outputs": [],
   "source": [
    "view._js_console()"
   ]
  },
  {
   "cell_type": "code",
   "execution_count": 29,
   "metadata": {
    "collapsed": false
   },
   "outputs": [],
   "source": [
    "#view.send(\"test\", buffers=['hi'])\n",
    "import numpy as np\n",
    "\n",
    "arr = np.arange(10).data\n",
    "view.send({'type': 'nothing'}, buffers=[arr,])"
   ]
  }
 ],
 "metadata": {
  "kernelspec": {
   "display_name": "Python 3",
   "language": "python",
   "name": "python3"
  },
  "language_info": {
   "codemirror_mode": {
    "name": "ipython",
    "version": 3
   },
   "file_extension": ".py",
   "mimetype": "text/x-python",
   "name": "python",
   "nbconvert_exporter": "python",
   "pygments_lexer": "ipython3",
   "version": "3.5.1"
  }
 },
 "nbformat": 4,
 "nbformat_minor": 0
}
