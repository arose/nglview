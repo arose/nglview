{
 "cells": [
  {
   "cell_type": "code",
   "execution_count": 33,
   "metadata": {
    "collapsed": false
   },
   "outputs": [],
   "source": [
    "import pytraj as pt, nglview as nv\n",
    "\n",
    "trajs = [pt.datafiles.load_tz2()[:] for _ in range(4)]\n",
    "views = [nv.show_pytraj(traj) for traj in trajs]"
   ]
  },
  {
   "cell_type": "code",
   "execution_count": 34,
   "metadata": {
    "collapsed": true
   },
   "outputs": [],
   "source": [
    "from ipywidgets import HBox, VBox\n",
    "\n",
    "vboxes = [VBox([views[0], views[1]]),\n",
    "          VBox([views[2], views[3]])]\n",
    "hbox = HBox([views[0], views[1]])\n",
    "hbox"
   ]
  },
  {
   "cell_type": "code",
   "execution_count": 35,
   "metadata": {
    "collapsed": false
   },
   "outputs": [],
   "source": [
    "views[0]._clear_repr()\n",
    "views[1]._clear_repr()\n",
    "views[0].add_licorice('not hydrogen', color='blue')\n",
    "views[1].add_rope('not hydrogen', color='residueindex')"
   ]
  }
 ],
 "metadata": {
  "kernelspec": {
   "display_name": "Python 3",
   "language": "python",
   "name": "python3"
  },
  "language_info": {
   "codemirror_mode": {
    "name": "ipython",
    "version": 3
   },
   "file_extension": ".py",
   "mimetype": "text/x-python",
   "name": "python",
   "nbconvert_exporter": "python",
   "pygments_lexer": "ipython3",
   "version": "3.5.1"
  }
 },
 "nbformat": 4,
 "nbformat_minor": 0
}
