{
 "cells": [
  {
   "cell_type": "code",
   "execution_count": 1,
   "metadata": {
    "collapsed": false
   },
   "outputs": [],
   "source": [
    "import pytraj as pt\n",
    "import nglview as nv\n",
    "\n",
    "traj = pt.load('../data/tc5b.x', '../data/tc5b.parm')\n",
    "view = nv.show_pytraj(traj)\n",
    "\n",
    "# reference\n",
    "traj2 = pt.load('../data/tc5b.ref.crd', '../data/tc5b.parm')\n",
    "\n",
    "# superpose\n",
    "traj.superpose(mask=':3-18@CA', ref=traj2)\n",
    "\n",
    "# create an instance of nv.Trajectory (having \"get_structure_strin\" method)\n",
    "nv_traj = nv.PyTrajTrajectory(traj2)\n",
    "view"
   ]
  },
  {
   "cell_type": "code",
   "execution_count": 2,
   "metadata": {
    "collapsed": false
   },
   "outputs": [],
   "source": [
    "view._load_data(nv_traj, defaultRepresentation=True)"
   ]
  },
  {
   "cell_type": "code",
   "execution_count": 4,
   "metadata": {
    "collapsed": false
   },
   "outputs": [],
   "source": [
    "# add selection for referene (index=1 in compList)\n",
    "view._clear_repr(model=1)\n",
    "\n",
    "# make reference grey\n",
    "view.add_cartoon(color='grey', index=1)"
   ]
  }
 ],
 "metadata": {
  "kernelspec": {
   "display_name": "Python 3",
   "language": "python",
   "name": "python3"
  },
  "language_info": {
   "codemirror_mode": {
    "name": "ipython",
    "version": 3
   },
   "file_extension": ".py",
   "mimetype": "text/x-python",
   "name": "python",
   "nbconvert_exporter": "python",
   "pygments_lexer": "ipython3",
   "version": "3.5.1"
  }
 },
 "nbformat": 4,
 "nbformat_minor": 0
}
