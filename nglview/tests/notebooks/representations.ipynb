{
 "cells": [
  {
   "cell_type": "code",
   "execution_count": 12,
   "metadata": {
    "collapsed": false
   },
   "outputs": [],
   "source": [
    "import pytraj as pt\n",
    "import nglview as nv\n",
    "\n",
    "traj = pt.datafiles.load_tz2()\n",
    "view = nv.show_pytraj(traj)\n",
    "view"
   ]
  },
  {
   "cell_type": "code",
   "execution_count": 15,
   "metadata": {
    "collapsed": true
   },
   "outputs": [],
   "source": [
    "view.add_cartoon()"
   ]
  },
  {
   "cell_type": "code",
   "execution_count": 3,
   "metadata": {
    "collapsed": true
   },
   "outputs": [],
   "source": [
    "view.add_rope()"
   ]
  },
  {
   "cell_type": "code",
   "execution_count": 4,
   "metadata": {
    "collapsed": true
   },
   "outputs": [],
   "source": [
    "view.add_line()"
   ]
  },
  {
   "cell_type": "code",
   "execution_count": 5,
   "metadata": {
    "collapsed": true
   },
   "outputs": [],
   "source": [
    "view.add_licorice(color='residueindex')"
   ]
  },
  {
   "cell_type": "code",
   "execution_count": 6,
   "metadata": {
    "collapsed": false
   },
   "outputs": [],
   "source": [
    "view.representations = []"
   ]
  },
  {
   "cell_type": "code",
   "execution_count": 7,
   "metadata": {
    "collapsed": true
   },
   "outputs": [],
   "source": [
    "view.add_line()"
   ]
  },
  {
   "cell_type": "code",
   "execution_count": 16,
   "metadata": {
    "collapsed": false
   },
   "outputs": [
    {
     "data": {
      "text/plain": [
       "[{'params': {'sele': 'polymer'}, 'type': 'cartoon'},\n",
       " {'params': {'sele': 'hetero OR mol'}, 'type': 'ball+stick'},\n",
       " {'params': {'sele': 'polymer'}, 'type': 'cartoon'},\n",
       " {'params': {'sele': 'hetero OR mol'}, 'type': 'ball+stick'},\n",
       " {'params': {'sele': 'all'}, 'type': 'cartoon'},\n",
       " {'params': {'sele': 'polymer'}, 'type': 'cartoon'},\n",
       " {'params': {'sele': 'hetero OR mol'}, 'type': 'ball+stick'},\n",
       " {'params': {'sele': 'polymer'}, 'type': 'cartoon'},\n",
       " {'params': {'sele': 'hetero OR mol'}, 'type': 'ball+stick'},\n",
       " {'params': {'sele': 'all'}, 'type': 'cartoon'},\n",
       " {'params': {'sele': 'all'}, 'type': 'cartoon'}]"
      ]
     },
     "execution_count": 16,
     "metadata": {},
     "output_type": "execute_result"
    }
   ],
   "source": [
    "view.representations"
   ]
  }
 ],
 "metadata": {
  "kernelspec": {
   "display_name": "Python 3",
   "language": "python",
   "name": "python3"
  },
  "language_info": {
   "codemirror_mode": {
    "name": "ipython",
    "version": 3
   },
   "file_extension": ".py",
   "mimetype": "text/x-python",
   "name": "python",
   "nbconvert_exporter": "python",
   "pygments_lexer": "ipython3",
   "version": "3.4.4"
  }
 },
 "nbformat": 4,
 "nbformat_minor": 0
}
