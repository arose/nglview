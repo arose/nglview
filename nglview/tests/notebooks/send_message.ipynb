{
 "cells": [
  {
   "cell_type": "code",
   "execution_count": 14,
   "metadata": {
    "collapsed": false
   },
   "outputs": [],
   "source": [
    "import pytraj as pt\n",
    "import nglview as nv\n",
    "\n",
    "fn = '/home/haichit/pytraj_github/pytraj/tests/data/tz2.ortho.nc'\n",
    "tn = '/home/haichit/pytraj_github/pytraj/tests/data/tz2.ortho.parm7'\n",
    "\n",
    "traj = pt.load([fn,], tn).superpose('@CA')\n",
    "view = nv.show_pytraj(traj)\n",
    "xyz = traj.xyz\n",
    "view"
   ]
  },
  {
   "cell_type": "code",
   "execution_count": 17,
   "metadata": {
    "collapsed": false
   },
   "outputs": [
    {
     "name": "stdout",
     "output_type": "stream",
     "text": [
      "CPU times: user 1.03 s, sys: 15 ms, total: 1.05 s\n",
      "Wall time: 1.05 s\n"
     ]
    }
   ],
   "source": [
    "%%time\n",
    "\n",
    "msg = dict(data=xyz.flatten().tolist())\n",
    "view.send(msg)"
   ]
  }
 ],
 "metadata": {
  "kernelspec": {
   "display_name": "Python 3",
   "language": "python",
   "name": "python3"
  },
  "language_info": {
   "codemirror_mode": {
    "name": "ipython",
    "version": 3
   },
   "file_extension": ".py",
   "mimetype": "text/x-python",
   "name": "python",
   "nbconvert_exporter": "python",
   "pygments_lexer": "ipython3",
   "version": "3.5.1"
  }
 },
 "nbformat": 4,
 "nbformat_minor": 0
}
