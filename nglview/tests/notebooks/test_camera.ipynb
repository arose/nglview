{
 "cells": [
  {
   "cell_type": "code",
   "execution_count": 52,
   "metadata": {
    "collapsed": false
   },
   "outputs": [],
   "source": [
    "import nose.tools as nt\n",
    "\n",
    "import pytraj as pt\n",
    "import nglview as nv\n",
    "\n",
    "traj = pt.load(nv.datafiles.TRR, nv.datafiles.PDB)\n",
    "\n",
    "view = nv.show_pytraj(traj)\n",
    "view"
   ]
  },
  {
   "cell_type": "code",
   "execution_count": 53,
   "metadata": {
    "collapsed": true
   },
   "outputs": [],
   "source": [
    "import json"
   ]
  },
  {
   "cell_type": "code",
   "execution_count": 54,
   "metadata": {
    "collapsed": false
   },
   "outputs": [
    {
     "name": "stdout",
     "output_type": "stream",
     "text": [
      "{'near': 0.1, 'aspect': 3.29796875, 'focalLength': 100, 'fov': 40, 'type': 'PerspectiveCamera', 'uuid': '920D2F23-2CBB-4151-96EB-40AB8FC1FCD2', 'zoom': 1, 'matrix': [1, 0, 0, 0, 0, 1, 0, 0, 0, 0, 1, 0, 0, 0, 0, 1], 'far': 10000}\n"
     ]
    }
   ],
   "source": [
    "camera = json.loads(view.camera_str)['object']\n",
    "print(camera)\n",
    "\n",
    "nt.assert_equal(camera['type'], 'PerspectiveCamera')\n",
    "nt.assert_almost_equal(camera['matrix'], [1, 0, 0, 0, 0, 1, 0, 0, 0, 0, 1, 0, 0, 0, 0, 1])\n",
    "nt.assert_almost_equal(camera['aspect'], 3.29796875)\n",
    "nt.assert_almost_equal(camera['far'], 10000)\n",
    "nt.assert_almost_equal(camera['zoom'], 1)"
   ]
  }
 ],
 "metadata": {
  "kernelspec": {
   "display_name": "Python 3",
   "language": "python",
   "name": "python3"
  },
  "language_info": {
   "codemirror_mode": {
    "name": "ipython",
    "version": 3
   },
   "file_extension": ".py",
   "mimetype": "text/x-python",
   "name": "python",
   "nbconvert_exporter": "python",
   "pygments_lexer": "ipython3",
   "version": "3.5.1"
  }
 },
 "nbformat": 4,
 "nbformat_minor": 0
}
