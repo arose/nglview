{
 "cells": [
  {
   "cell_type": "code",
   "execution_count": 67,
   "metadata": {
    "collapsed": false
   },
   "outputs": [],
   "source": [
    "import nose.tools as nt\n",
    "\n",
    "import pytraj as pt\n",
    "import nglview as nv\n",
    "\n",
    "traj = pt.load(nv.datafiles.TRR, nv.datafiles.PDB)\n",
    "\n",
    "view = nv.show_pytraj(traj)\n",
    "view"
   ]
  },
  {
   "cell_type": "code",
   "execution_count": 68,
   "metadata": {
    "collapsed": true
   },
   "outputs": [],
   "source": [
    "import json"
   ]
  },
  {
   "cell_type": "code",
   "execution_count": 69,
   "metadata": {
    "collapsed": false
   },
   "outputs": [
    {
     "name": "stdout",
     "output_type": "stream",
     "text": [
      "{'near': 0.1, 'aspect': 3.294652913411458, 'focalLength': 100, 'fov': 40, 'type': 'PerspectiveCamera', 'uuid': '401C00E9-94B9-442D-B1BD-D61C9AAA1C4B', 'zoom': 1, 'matrix': [1, 0, 0, 0, 0, 1, 0, 0, 0, 0, 1, 0, 0, 0, 0, 1], 'far': 10000}\n"
     ]
    }
   ],
   "source": [
    "camera = json.loads(view.camera_str)['object']\n",
    "print(camera)\n",
    "\n",
    "# seems this does not work with different browswers\n",
    "# nt.assert_equal(camera['type'], 'PerspectiveCamera')\n",
    "# nt.assert_almost_equal(camera['matrix'], [1, 0, 0, 0, 0, 1, 0, 0, 0, 0, 1, 0, 0, 0, 0, 1])\n",
    "# nt.assert_almost_equal(camera['aspect'], 3.29796875)\n",
    "# nt.assert_almost_equal(camera['far'], 10000)\n",
    "# nt.assert_almost_equal(camera['zoom'], 1)"
   ]
  },
  {
   "cell_type": "code",
   "execution_count": 70,
   "metadata": {
    "collapsed": true
   },
   "outputs": [],
   "source": [
    "from ipywidgets import Textarea\n",
    "\n",
    "text = Textarea()\n",
    "text"
   ]
  },
  {
   "cell_type": "code",
   "execution_count": 71,
   "metadata": {
    "collapsed": false
   },
   "outputs": [
    {
     "data": {
      "text/plain": [
       "<traitlets.traitlets.link at 0x2aaae06aada0>"
      ]
     },
     "execution_count": 71,
     "metadata": {},
     "output_type": "execute_result"
    }
   ],
   "source": [
    "from traitlets import link\n",
    "\n",
    "link((view, 'camera_str'), (text, \"value\"))"
   ]
  }
 ],
 "metadata": {
  "kernelspec": {
   "display_name": "Python 3",
   "language": "python",
   "name": "python3"
  },
  "language_info": {
   "codemirror_mode": {
    "name": "ipython",
    "version": 3
   },
   "file_extension": ".py",
   "mimetype": "text/x-python",
   "name": "python",
   "nbconvert_exporter": "python",
   "pygments_lexer": "ipython3",
   "version": "3.5.1"
  }
 },
 "nbformat": 4,
 "nbformat_minor": 0
}
