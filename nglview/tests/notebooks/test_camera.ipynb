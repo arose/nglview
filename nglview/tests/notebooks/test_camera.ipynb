{
 "cells": [
  {
   "cell_type": "code",
   "execution_count": 1,
   "metadata": {
    "collapsed": false,
    "scrolled": true
   },
   "outputs": [],
   "source": [
    "import nose.tools as nt\n",
    "\n",
    "import pytraj as pt\n",
    "import nglview as nv\n",
    "\n",
    "traj = pt.load(nv.datafiles.TRR, nv.datafiles.PDB)\n",
    "\n",
    "view = nv.show_pytraj(traj)\n",
    "view"
   ]
  },
  {
   "cell_type": "code",
   "execution_count": 2,
   "metadata": {
    "collapsed": true
   },
   "outputs": [],
   "source": [
    "import json"
   ]
  },
  {
   "cell_type": "code",
   "execution_count": 3,
   "metadata": {
    "collapsed": false
   },
   "outputs": [
    {
     "name": "stdout",
     "output_type": "stream",
     "text": [
      "{'object': {'aspect': 3.244666748046875, 'near': 0.1, 'uuid': '22A246C3-CBCF-4BA1-AA12-38BF1CC747E8', 'fov': 40, 'zoom': 1, 'matrix': [1, 0, 0, 0, 0, 1, 0, 0, 0, 0, 1, 0, 0, 0, 0, 1], 'type': 'PerspectiveCamera', 'focalLength': 100, 'far': 10000}}\n"
     ]
    }
   ],
   "source": [
    "camera = json.loads(view.camera_str)\n",
    "print(camera)\n",
    "\n",
    "# seems this does not work with different browswers\n",
    "# nt.assert_equal(camera['type'], 'PerspectiveCamera')\n",
    "# nt.assert_almost_equal(camera['matrix'], [1, 0, 0, 0, 0, 1, 0, 0, 0, 0, 1, 0, 0, 0, 0, 1])\n",
    "# nt.assert_almost_equal(camera['aspect'], 3.29796875)\n",
    "# nt.assert_almost_equal(camera['far'], 10000)\n",
    "# nt.assert_almost_equal(camera['zoom'], 1)"
   ]
  },
  {
   "cell_type": "code",
   "execution_count": 4,
   "metadata": {
    "collapsed": false
   },
   "outputs": [],
   "source": [
    "from ipywidgets import Textarea, HBox\n",
    "from traitlets import link\n",
    "\n",
    "text_camera = Textarea()\n",
    "text_orientation = Textarea()\n",
    "link((view, 'camera_str'), (text_camera, \"value\"))\n",
    "\n",
    "text_camera"
   ]
  }
 ],
 "metadata": {
  "kernelspec": {
   "display_name": "Python 3",
   "language": "python",
   "name": "python3"
  },
  "language_info": {
   "codemirror_mode": {
    "name": "ipython",
    "version": 3
   },
   "file_extension": ".py",
   "mimetype": "text/x-python",
   "name": "python",
   "nbconvert_exporter": "python",
   "pygments_lexer": "ipython3",
   "version": "3.5.1"
  }
 },
 "nbformat": 4,
 "nbformat_minor": 0
}
