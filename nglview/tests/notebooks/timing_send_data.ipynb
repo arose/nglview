{
 "cells": [
  {
   "cell_type": "code",
   "execution_count": 1,
   "metadata": {
    "collapsed": true
   },
   "outputs": [],
   "source": [
    "import pytraj as pt, nglview as nv"
   ]
  },
  {
   "cell_type": "code",
   "execution_count": 2,
   "metadata": {
    "collapsed": false
   },
   "outputs": [],
   "source": [
    "# !wget http://ambermd.org/tutorials/advanced/tutorial16/include/DOPC_128.inpcrd\n",
    "# !wget http://ambermd.org/tutorials/advanced/tutorial16/include/DOPC_128.prmtop\n",
    "traj = pt.load('DOPC_128.inpcrd', 'DOPC_128.prmtop')"
   ]
  },
  {
   "cell_type": "code",
   "execution_count": 3,
   "metadata": {
    "collapsed": false
   },
   "outputs": [],
   "source": [
    "view = nv.show_pytraj(traj)\n",
    "view.clear_representations()\n",
    "view"
   ]
  },
  {
   "cell_type": "code",
   "execution_count": 4,
   "metadata": {
    "collapsed": true
   },
   "outputs": [],
   "source": [
    "view.clear_representations()\n",
    "view.add_line('not water and not hydrogen')"
   ]
  },
  {
   "cell_type": "code",
   "execution_count": 5,
   "metadata": {
    "collapsed": false,
    "scrolled": true
   },
   "outputs": [
    {
     "data": {
      "text/plain": [
       "pytraj.Trajectory, 1 frames: \n",
       "Size: 0.000713 (GB)\n",
       "<Topology: 31882 atoms, 5130 residues, 4874 mols, PBC with box type = ortho>\n",
       "           "
      ]
     },
     "execution_count": 5,
     "metadata": {},
     "output_type": "execute_result"
    }
   ],
   "source": [
    "traj"
   ]
  },
  {
   "cell_type": "code",
   "execution_count": 6,
   "metadata": {
    "collapsed": true
   },
   "outputs": [],
   "source": [
    "from time import time\n",
    "xyz = traj[0].xyz.astype('f4')"
   ]
  },
  {
   "cell_type": "markdown",
   "metadata": {},
   "source": [
    "# Send bytes"
   ]
  },
  {
   "cell_type": "code",
   "execution_count": 40,
   "metadata": {
    "collapsed": false
   },
   "outputs": [],
   "source": [
    "mytime = time()*1000\n",
    "\n",
    "binary = xyz.tobytes()\n",
    "\n",
    "data_meta = {'0': dict(data=0, dtype='f4', shape=xyz.shape)}\n",
    "\n",
    "d = dict(type='binary_single', mytime=mytime, data=data_meta)\n",
    "view.send(d, buffers=[binary])"
   ]
  },
  {
   "cell_type": "markdown",
   "metadata": {},
   "source": [
    "# Send base64"
   ]
  },
  {
   "cell_type": "code",
   "execution_count": 70,
   "metadata": {
    "collapsed": false
   },
   "outputs": [],
   "source": [
    "mytime = time()*1000\n",
    "\n",
    "data_base64 = {'0': dict(data=nv.encode_numpy(xyz, dtype='f4'), \n",
    "                  dtype='f4',\n",
    "                  shape=xyz.shape)}\n",
    "\n",
    "d = dict(type='base64_single', mytime2=mytime, data=data_base64)\n",
    "\n",
    "view.send(d)"
   ]
  },
  {
   "cell_type": "markdown",
   "metadata": {},
   "source": [
    "# make sure we send the same array"
   ]
  },
  {
   "cell_type": "code",
   "execution_count": null,
   "metadata": {
    "collapsed": true
   },
   "outputs": [],
   "source": [
    "from pytraj.testing import aa_eq\n",
    "\n",
    "xyz_from_bytes = np.frombuffer(binary, dtype='f4').reshape(xyz.shape)\n",
    "xyz_from_base64 = nv.decode_base64(data_base64['0']['data'], shape=xyz.shape,\n",
    "                                  dtype='f4')\n",
    "\n",
    "aa_eq(xyz_from_bytes, xyz_from_base64)"
   ]
  }
 ],
 "metadata": {
  "kernelspec": {
   "display_name": "Python 3",
   "language": "python",
   "name": "python3"
  },
  "language_info": {
   "codemirror_mode": {
    "name": "ipython",
    "version": 3
   },
   "file_extension": ".py",
   "mimetype": "text/x-python",
   "name": "python",
   "nbconvert_exporter": "python",
   "pygments_lexer": "ipython3",
   "version": "3.5.1"
  }
 },
 "nbformat": 4,
 "nbformat_minor": 0
}
