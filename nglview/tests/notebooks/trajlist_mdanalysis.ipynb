{
 "cells": [
  {
   "cell_type": "code",
   "execution_count": 7,
   "metadata": {
    "collapsed": false
   },
   "outputs": [
    {
     "name": "stderr",
     "output_type": "stream",
     "text": [
      "/home/haichit/miniconda3/lib/python3.5/site-packages/ipywidgets/widgets/widget.py:157: DeprecationWarning: Widget._keys_default is deprecated: use @default decorator instead.\n",
      "  def _keys_default(self):\n",
      "/home/haichit/miniconda3/lib/python3.5/site-packages/ipykernel/comm/comm.py:52: DeprecationWarning: Comm._comm_id_default is deprecated: use @default decorator instead.\n",
      "  def _comm_id_default(self):\n",
      "/home/haichit/miniconda3/lib/python3.5/site-packages/ipykernel/comm/comm.py:29: DeprecationWarning: Comm._iopub_socket_default is deprecated: use @default decorator instead.\n",
      "  def _iopub_socket_default(self):\n",
      "/home/haichit/miniconda3/lib/python3.5/site-packages/ipykernel/comm/comm.py:24: DeprecationWarning: Comm._kernel_default is deprecated: use @default decorator instead.\n",
      "  def _kernel_default(self):\n",
      "/home/haichit/miniconda3/lib/python3.5/site-packages/ipykernel/comm/comm.py:32: DeprecationWarning: Comm._session_default is deprecated: use @default decorator instead.\n",
      "  def _session_default(self):\n",
      "/home/haichit/miniconda3/lib/python3.5/site-packages/ipykernel/comm/comm.py:41: DeprecationWarning: Comm._topic_default is deprecated: use @default decorator instead.\n",
      "  def _topic_default(self):\n",
      "/home/haichit/miniconda3/lib/python3.5/site-packages/ipywidgets/widgets/widget.py:194: DeprecationWarning: NGLWidget._comm_changed is deprecated: use @observe and @unobserve instead.\n",
      "  def _comm_changed(self, name, new):\n",
      "/home/haichit/miniconda3/lib/python3.5/site-packages/ipywidgets/widgets/widget.py:513: DeprecationWarning: on_trait_change is deprecated: use observe instead\n",
      "  self.on_trait_change(_validate_border, ['border_width', 'border_style', 'border_color'])\n"
     ]
    }
   ],
   "source": [
    "from MDAnalysis import Universe\n",
    "from nglview import datafiles\n",
    "import nglview as nv\n",
    "\n",
    "traj0 = Universe('../data/tz2.pdb')\n",
    "# \n",
    "traj1 = Universe(datafiles.PDB, datafiles.XTC)\n",
    "\n",
    "trajlist = [nv.MDAnalysisTrajectory(traj) for traj in [traj0, traj1]]\n",
    "\n",
    "trajlist\n",
    "\n",
    "view = nv.NGLWidget(trajlist)\n",
    "view"
   ]
  },
  {
   "cell_type": "code",
   "execution_count": 8,
   "metadata": {
    "collapsed": true
   },
   "outputs": [],
   "source": [
    "# try cache\n",
    "view.caching()"
   ]
  },
  {
   "cell_type": "code",
   "execution_count": 9,
   "metadata": {
    "collapsed": true
   },
   "outputs": [],
   "source": [
    "view.uncaching()"
   ]
  },
  {
   "cell_type": "code",
   "execution_count": 10,
   "metadata": {
    "collapsed": false
   },
   "outputs": [],
   "source": [
    "# clear repr: trpcage\n",
    "view._clear_repr(model=1)"
   ]
  },
  {
   "cell_type": "code",
   "execution_count": 11,
   "metadata": {
    "collapsed": true
   },
   "outputs": [],
   "source": [
    "# clear repr: trpzip2\n",
    "view._clear_repr(model=0)"
   ]
  },
  {
   "cell_type": "code",
   "execution_count": 12,
   "metadata": {
    "collapsed": true
   },
   "outputs": [],
   "source": [
    "# try back: trpcage\n",
    "view.add_line(model=1)"
   ]
  },
  {
   "cell_type": "code",
   "execution_count": 13,
   "metadata": {
    "collapsed": true
   },
   "outputs": [],
   "source": [
    "# try back: trpzip2\n",
    "\n",
    "view.add_cartoon(color='residueindex')"
   ]
  },
  {
   "cell_type": "code",
   "execution_count": 14,
   "metadata": {
    "collapsed": false
   },
   "outputs": [],
   "source": [
    "assert isinstance(view.coordinates, list)"
   ]
  },
  {
   "cell_type": "markdown",
   "metadata": {},
   "source": [
    "# show_mdanalysis: not yet"
   ]
  },
  {
   "cell_type": "code",
   "execution_count": 15,
   "metadata": {
    "collapsed": false
   },
   "outputs": [],
   "source": [
    "# view1 = nv.show_mdanalysis([traj0, traj1])\n",
    "# view1"
   ]
  }
 ],
 "metadata": {
  "kernelspec": {
   "display_name": "Python 3",
   "language": "python",
   "name": "python3"
  },
  "language_info": {
   "codemirror_mode": {
    "name": "ipython",
    "version": 3
   },
   "file_extension": ".py",
   "mimetype": "text/x-python",
   "name": "python",
   "nbconvert_exporter": "python",
   "pygments_lexer": "ipython3",
   "version": "3.5.1"
  }
 },
 "nbformat": 4,
 "nbformat_minor": 0
}
