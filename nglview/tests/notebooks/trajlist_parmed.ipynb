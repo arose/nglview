{
 "cells": [
  {
   "cell_type": "code",
   "execution_count": 27,
   "metadata": {
    "collapsed": false
   },
   "outputs": [],
   "source": [
    "import parmed as pmd\n",
    "from pytraj.testing import get_fn\n",
    "import  nglview as nv\n",
    "\n",
    "fn, tn = get_fn('trpcage')\n",
    "parm0 = pmd.load_file(tn, fn)\n",
    "fn, tn = get_fn('tz2_dry')\n",
    "parm1 = pmd.load_file(tn, fn)\n",
    "\n",
    "trajlist = [nv.ParmEdTrajectory(parm) for parm in [parm0, parm1]]\n",
    "\n",
    "trajlist\n",
    "\n",
    "view = nv.NGLWidget(trajlist)\n",
    "view"
   ]
  },
  {
   "cell_type": "code",
   "execution_count": 28,
   "metadata": {
    "collapsed": true
   },
   "outputs": [],
   "source": [
    "# try cache\n",
    "view.caching()"
   ]
  },
  {
   "cell_type": "code",
   "execution_count": 30,
   "metadata": {
    "collapsed": true
   },
   "outputs": [],
   "source": [
    "view.uncaching()"
   ]
  },
  {
   "cell_type": "code",
   "execution_count": 32,
   "metadata": {
    "collapsed": false
   },
   "outputs": [
    {
     "data": {
      "text/plain": [
       "[array([], dtype=float32), array([[  2.56800008,  12.35900021,   0.093     ],\n",
       "        [  2.4519999 ,  12.64799976,   1.05299997],\n",
       "        [  3.43899989,  11.84700012,   0.105     ],\n",
       "        ..., \n",
       "        [  7.75600004,  -9.58300018,   3.98699999],\n",
       "        [  6.70900011, -10.35000038,   5.08199978],\n",
       "        [  7.40799999, -11.18200016,   3.5940001 ]], dtype=float32)]"
      ]
     },
     "execution_count": 32,
     "metadata": {},
     "output_type": "execute_result"
    }
   ],
   "source": [
    "view.coordinates"
   ]
  }
 ],
 "metadata": {
  "kernelspec": {
   "display_name": "Python 3",
   "language": "python",
   "name": "python3"
  },
  "language_info": {
   "codemirror_mode": {
    "name": "ipython",
    "version": 3
   },
   "file_extension": ".py",
   "mimetype": "text/x-python",
   "name": "python",
   "nbconvert_exporter": "python",
   "pygments_lexer": "ipython3",
   "version": "3.4.4"
  }
 },
 "nbformat": 4,
 "nbformat_minor": 0
}
