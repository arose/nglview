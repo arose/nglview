{
 "cells": [
  {
   "cell_type": "code",
   "execution_count": 21,
   "metadata": {
    "collapsed": false
   },
   "outputs": [
    {
     "data": {
      "text/plain": [
       "(<nglview.SimpletrajTrajectory at 0x2aaacd558b70>,\n",
       " <nglview.SimpletrajTrajectory at 0x2aaacd544f98>)"
      ]
     },
     "execution_count": 21,
     "metadata": {},
     "output_type": "execute_result"
    }
   ],
   "source": [
    "import nglview as nv\n",
    "from pytraj.testing import get_fn\n",
    "import pytraj as pt\n",
    "\n",
    "fn, tn = get_fn('tz2_dry')\n",
    "\n",
    "# I am to lazy\n",
    "pt.load(fn, tn)[:1].save('../data/tz2.single.pdb', overwrite=True)\n",
    "pt.load(fn, tn).save('../tz2.nc', overwrite=True)\n",
    "\n",
    "traj = nv.SimpletrajTrajectory(nv.datafiles.XTC, nv.datafiles.GRO)\n",
    "traj2 = nv.SimpletrajTrajectory('../data/tz2.nc', '../data/tz2.single.pdb')\n",
    "\n",
    "traj, traj2"
   ]
  },
  {
   "cell_type": "code",
   "execution_count": 22,
   "metadata": {
    "collapsed": false
   },
   "outputs": [],
   "source": [
    "view = nv.NGLWidget([traj, traj2])\n",
    "view"
   ]
  },
  {
   "cell_type": "code",
   "execution_count": 23,
   "metadata": {
    "collapsed": true
   },
   "outputs": [],
   "source": [
    "view.caching()"
   ]
  },
  {
   "cell_type": "code",
   "execution_count": 25,
   "metadata": {
    "collapsed": true
   },
   "outputs": [],
   "source": [
    "view.add_cartoon(model=1, color='residueindex')"
   ]
  },
  {
   "cell_type": "code",
   "execution_count": 26,
   "metadata": {
    "collapsed": true
   },
   "outputs": [],
   "source": [
    "view.add_licorice(model=1)"
   ]
  }
 ],
 "metadata": {
  "kernelspec": {
   "display_name": "Python 3",
   "language": "python",
   "name": "python3"
  },
  "language_info": {
   "codemirror_mode": {
    "name": "ipython",
    "version": 3
   },
   "file_extension": ".py",
   "mimetype": "text/x-python",
   "name": "python",
   "nbconvert_exporter": "python",
   "pygments_lexer": "ipython3",
   "version": "3.4.4"
  }
 },
 "nbformat": 4,
 "nbformat_minor": 0
}
