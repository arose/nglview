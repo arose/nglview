{
 "cells": [
  {
   "cell_type": "code",
   "execution_count": 13,
   "metadata": {
    "collapsed": false
   },
   "outputs": [
    {
     "name": "stdout",
     "output_type": "stream",
     "text": [
      "no trajectory available\n",
      "no trajectory available\n",
      "no trajectory available\n",
      "no trajectory available\n",
      "no trajectory available\n",
      "no trajectory available\n",
      "no trajectory available\n",
      "no trajectory available\n",
      "no trajectory available\n"
     ]
    }
   ],
   "source": [
    "import pytraj as  pt\n",
    "import nglview as nv\n",
    "\n",
    "\n",
    "traj = pt.datafiles.load_tz2()\n",
    "traj[:1].save(\"test.pdb\", overwrite=True)\n",
    "\n",
    "view = nv.show_structure_file(\"test.pdb\")\n",
    "view"
   ]
  },
  {
   "cell_type": "code",
   "execution_count": 15,
   "metadata": {
    "collapsed": false
   },
   "outputs": [],
   "source": [
    "view.coordinates = [traj.xyz[70]]"
   ]
  },
  {
   "cell_type": "code",
   "execution_count": 16,
   "metadata": {
    "collapsed": false
   },
   "outputs": [],
   "source": [
    "view.count = 20"
   ]
  }
 ],
 "metadata": {
  "kernelspec": {
   "display_name": "Python 3",
   "language": "python",
   "name": "python3"
  },
  "language_info": {
   "codemirror_mode": {
    "name": "ipython",
    "version": 3
   },
   "file_extension": ".py",
   "mimetype": "text/x-python",
   "name": "python",
   "nbconvert_exporter": "python",
   "pygments_lexer": "ipython3",
   "version": "3.5.1"
  }
 },
 "nbformat": 4,
 "nbformat_minor": 0
}
