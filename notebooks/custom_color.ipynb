{
 "cells": [
  {
   "cell_type": "markdown",
   "metadata": {},
   "source": [
    "# Selection Scheme"
   ]
  },
  {
   "cell_type": "code",
   "execution_count": 1,
   "metadata": {},
   "outputs": [
    {
     "data": {
      "application/vnd.jupyter.widget-view+json": {
       "model_id": "995f3599c5be4b3aa239f5e6f74c234a",
       "version_major": 2,
       "version_minor": 0
      },
      "text/plain": [
       "ColormakerRegistry()"
      ]
     },
     "metadata": {},
     "output_type": "display_data"
    }
   ],
   "source": [
    "import nglview as nv\n",
    "from nglview.color import ColormakerRegistry\n",
    "\n",
    "cm = ColormakerRegistry\n",
    "cm.add_selection_scheme(\"awesome\",\n",
    "        [['blue', '1-10']])"
   ]
  },
  {
   "cell_type": "code",
   "execution_count": 2,
   "metadata": {},
   "outputs": [
    {
     "data": {
      "application/vnd.jupyter.widget-view+json": {
       "model_id": "f41cd2e9c3cc4aa9afdd73645b0f094a",
       "version_major": 2,
       "version_minor": 0
      },
      "text/plain": [
       "NGLWidget()"
      ]
     },
     "metadata": {},
     "output_type": "display_data"
    }
   ],
   "source": [
    "v0 = nv.demo(default=False)\n",
    "v0.center()\n",
    "v0.add_cartoon(color='awesome')\n",
    "v0"
   ]
  },
  {
   "cell_type": "code",
   "execution_count": 3,
   "metadata": {},
   "outputs": [],
   "source": [
    "assert v0._ngl_repr_dict['0']['0']['params']['colorScheme'] == 'awesome'"
   ]
  },
  {
   "cell_type": "markdown",
   "metadata": {},
   "source": [
    "# Function"
   ]
  },
  {
   "cell_type": "code",
   "execution_count": 4,
   "metadata": {},
   "outputs": [],
   "source": [
    "cm.add_scheme_func('bla_bla','''\n",
    " this.atomColor = function (atom) {\n",
    "     if (atom.serial < 1000) {\n",
    "       return 0x0000FF // blue\n",
    "     } else if (atom.serial > 2000) {\n",
    "       return 0xFF0000 // red\n",
    "     } else {\n",
    "       return 0x00FF00 // green\n",
    "     }\n",
    " }\n",
    "''')"
   ]
  },
  {
   "cell_type": "code",
   "execution_count": 5,
   "metadata": {},
   "outputs": [
    {
     "data": {
      "application/vnd.jupyter.widget-view+json": {
       "model_id": "f7e507bc448a4ed1bafcad25ff297464",
       "version_major": 2,
       "version_minor": 0
      },
      "text/plain": [
       "NGLWidget()"
      ]
     },
     "metadata": {},
     "output_type": "display_data"
    }
   ],
   "source": [
    "v1 = nv.demo(default=False)\n",
    "v1.center()\n",
    "v1.add_cartoon(color='bla_bla')\n",
    "v1"
   ]
  },
  {
   "cell_type": "code",
   "execution_count": null,
   "metadata": {},
   "outputs": [],
   "source": [
    "nv.write_html('index.html', [v0, v1])\n",
    "\n",
    "!open index.html\n",
    "# !google-chrome index.html\n",
    "\n",
    "# NOTE: If using master branch, make sure to copy nglview/static/index.js to <this folder>/nglview-js-widgets.js"
   ]
  }
 ],
 "metadata": {
  "kernelspec": {
   "display_name": "Python 3",
   "language": "python",
   "name": "python3"
  },
  "language_info": {
   "codemirror_mode": {
    "name": "ipython",
    "version": 3
   },
   "file_extension": ".py",
   "mimetype": "text/x-python",
   "name": "python",
   "nbconvert_exporter": "python",
   "pygments_lexer": "ipython3",
   "version": "3.7.3"
  }
 },
 "nbformat": 4,
 "nbformat_minor": 1
}
