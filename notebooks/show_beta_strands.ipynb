{
 "cells": [
  {
   "cell_type": "code",
   "execution_count": 1,
   "metadata": {
    "collapsed": false,
    "scrolled": true
   },
   "outputs": [],
   "source": [
    "import warnings\n",
    "warnings.filterwarnings('ignore')\n",
    "\n",
    "import pytraj\n",
    "import nglview as nv\n",
    "\n",
    "t0 = pt.datafiles.load_dpdp()[:].superpose(mask='@CA', ref=0)\n",
    "tv = nv.show_pytraj(t0)\n",
    "tv"
   ]
  },
  {
   "cell_type": "code",
   "execution_count": 3,
   "metadata": {
    "collapsed": false
   },
   "outputs": [],
   "source": [
    "tv.representations = []\n",
    "tv.add_representation(repr_type='cartoon', selection='all', color='residueindex')\n",
    "tv.rotate_speed = 6.\n",
    "tv.parameters = {'zoomSpeed': 4., 'theme': 'dark', 'quality': 'high',\n",
    "                 'impostor': False,\n",
    "                 'overview': True,\n",
    "                }\n",
    "tv.add_representation('1-7', 'licorice', color='element')"
   ]
  }
 ],
 "metadata": {
  "kernelspec": {
   "display_name": "Python 3",
   "language": "python",
   "name": "python3"
  },
  "language_info": {
   "codemirror_mode": {
    "name": "ipython",
    "version": 3
   },
   "file_extension": ".py",
   "mimetype": "text/x-python",
   "name": "python",
   "nbconvert_exporter": "python",
   "pygments_lexer": "ipython3",
   "version": "3.5.1"
  }
 },
 "nbformat": 4,
 "nbformat_minor": 0
}
