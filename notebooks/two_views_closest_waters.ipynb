{
 "cells": [
  {
   "cell_type": "code",
   "execution_count": 5,
   "metadata": {
    "collapsed": false
   },
   "outputs": [
    {
     "data": {
      "text/plain": [
       "pytraj.Trajectory, 10 frames: \n",
       "Size: 0.000116 (GB)\n",
       "<Topology: 520 atoms, 113 residues, 101 mols, PBC with box type = ortho>\n",
       "           "
      ]
     },
     "execution_count": 5,
     "metadata": {},
     "output_type": "execute_result"
    }
   ],
   "source": [
    "import pytraj as pt\n",
    "import nglview as nv\n",
    "\n",
    "t0 = pt.datafiles.load_tz2_ortho()\n",
    "\n",
    "t1 = pt.closest(t0, n_solvents=100, dtype='trajectory')\n",
    "t1"
   ]
  },
  {
   "cell_type": "code",
   "execution_count": 8,
   "metadata": {
    "collapsed": false
   },
   "outputs": [],
   "source": [
    "from ipywidgets import VBox\n",
    "from traitlets import link\n",
    "\n",
    "import nglview as nv\n",
    "from pytraj import view\n",
    "\n",
    "views = (nv.show_pytraj(t0), \n",
    "         nv.show_pytraj(t1))\n",
    "link((views[0], 'frame'), (views[1], 'frame'))\n",
    "\n",
    "for view in views:\n",
    "    view.rotate_speed = 4.\n",
    "    view.parameters = {'zoomSpeed': 5.}\n",
    "    view.representations = []\n",
    "    view.add_representation(selection='water and not hydrogen', repr_type='ball+stick', color='red')\n",
    "    view.add_representation(selection='not water', repr_type='cartoon')\n",
    "    view.add_representation(selection='not water', repr_type='ball+stick')\n",
    "\n",
    "VBox(views)"
   ]
  }
 ],
 "metadata": {
  "kernelspec": {
   "display_name": "Python 3",
   "language": "python",
   "name": "python3"
  },
  "language_info": {
   "codemirror_mode": {
    "name": "ipython",
    "version": 3
   },
   "file_extension": ".py",
   "mimetype": "text/x-python",
   "name": "python",
   "nbconvert_exporter": "python",
   "pygments_lexer": "ipython3",
   "version": "3.5.1"
  }
 },
 "nbformat": 4,
 "nbformat_minor": 0
}
