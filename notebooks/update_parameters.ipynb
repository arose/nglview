{
 "cells": [
  {
   "cell_type": "code",
   "execution_count": 1,
   "metadata": {
    "collapsed": true
   },
   "outputs": [],
   "source": [
    "import nglview as nv\n",
    "import pytraj as pt\n",
    "import pytraj.view as view\n",
    "\n",
    "traj = pt.datafiles.load_tz2_ortho()\n",
    "\n",
    "tv = nv.show_pytraj(traj)\n",
    "tv"
   ]
  },
  {
   "cell_type": "code",
   "execution_count": 2,
   "metadata": {
    "collapsed": false
   },
   "outputs": [],
   "source": [
    "tv.parameters = {'theme': 'dark', 'zoomSpeed': 5}\n",
    "tv.add_representation(selection='backbone', repr_type='ball+stick')\n",
    "tv.add_representation(selection='not hydrogen', repr_type='ball+stick')"
   ]
  }
 ],
 "metadata": {
  "kernelspec": {
   "display_name": "Python 3",
   "language": "python",
   "name": "python3"
  },
  "language_info": {
   "codemirror_mode": {
    "name": "ipython",
    "version": 3
   },
   "file_extension": ".py",
   "mimetype": "text/x-python",
   "name": "python",
   "nbconvert_exporter": "python",
   "pygments_lexer": "ipython3",
   "version": "3.5.1"
  }
 },
 "nbformat": 4,
 "nbformat_minor": 0
}
